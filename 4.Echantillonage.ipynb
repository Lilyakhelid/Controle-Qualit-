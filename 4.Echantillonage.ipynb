{
 "cells": [
  {
   "cell_type": "markdown",
   "metadata": {},
   "source": [
    "# **TP : Étude de l'Échantillonnage Statistique**  \n",
    "\n",
    "### **Auteur : KHELID Lilya-Nada**  \n",
    "\n",
    "---\n",
    "\n",
    "## **Objectifs :**  \n",
    "Dans ce notebook, nous allons explorer l’utilisation des **méthodes d’échantillonnage statistique** afin d’analyser et d’estimer les caractéristiques d’une population à partir d’un sous-ensemble de données. L’objectif est de comprendre et d’implémenter différentes stratégies d’échantillonnage pour assurer une estimation fiable et représentative.  \n",
    "\n",
    "Les thématiques principales abordées sont :  \n",
    "\n",
    "1. **Types d’échantillonnage et leurs implications sur les résultats.**  \n",
    "2. **Méthodes de sélection d’un échantillon représentatif.**  \n",
    "3. **Estimation des paramètres d’une population à partir d’un échantillon.**  \n",
    "4. **Comparaison des erreurs d’échantillonnage et impact de la taille de l’échantillon.**  \n",
    "\n",
    "---"
   ]
  },
  {
   "cell_type": "markdown",
   "metadata": {},
   "source": [
    "### 📥 Importation des librairies"
   ]
  },
  {
   "cell_type": "code",
   "execution_count": 1,
   "metadata": {},
   "outputs": [],
   "source": [
    "import numpy as np\n",
    "from scipy.stats import poisson,norm "
   ]
  },
  {
   "cell_type": "markdown",
   "metadata": {},
   "source": [
    ">### Exercice 1 : Contrôle progressif d'un lot d'articles\n",
    "\n",
    "#### Paramètre :\n",
    "- $p$ : proportion d'articles défectueux dans le lot\n",
    "\n",
    "#### Objectif :\n",
    "Retourne la probabilité de refus du lot et l'espérance du nombre d'articles prélevés.\n",
    "\n",
    "#### Règle de décision :\n",
    "1. On prélève un article au hasard :\n",
    "   - S'il est mauvais, on refuse le lot.\n",
    "   - S'il est bon, on prélève un deuxième article :\n",
    "     - S'il est mauvais, on refuse le lot.\n",
    "     - S'il est bon, on prélève un troisième article :\n",
    "       - S'il est mauvais, on refuse le lot.\n",
    "       - S'il est bon, on accepte le lot."
   ]
  },
  {
   "cell_type": "code",
   "execution_count": 46,
   "metadata": {},
   "outputs": [],
   "source": [
    "def exercice1(p):\n",
    "    # probabilité de refuser le lot\n",
    "    P_refus = p + (1 - p) * p + (1 - p) ** 2 * p  \n",
    "    \n",
    "    # Espérance \n",
    "    E_X = 1 + (1 - p) + (1 - p) ** 2  \n",
    "    \n",
    "    return P_refus, E_X"
   ]
  },
  {
   "cell_type": "markdown",
   "metadata": {},
   "source": [
    "Exemple :"
   ]
  },
  {
   "cell_type": "code",
   "execution_count": 47,
   "metadata": {},
   "outputs": [
    {
     "name": "stdout",
     "output_type": "stream",
     "text": [
      "Probabilité de refuser le lot : 0.2710\n",
      "Espérance du nombre d'articles prélevés : 2.71\n"
     ]
    }
   ],
   "source": [
    "p = 0.1  # Exemple : 10% d'articles défectueux\n",
    "probabilite_refus, esperance_articles = exercice1(p)\n",
    "print(f\"Probabilité de refuser le lot : {probabilite_refus:.4f}\")\n",
    "print(f\"Espérance du nombre d'articles prélevés : {esperance_articles:.2f}\")"
   ]
  },
  {
   "cell_type": "markdown",
   "metadata": {},
   "source": [
    ">#### Exercice 2 : Contrôle d'un lot avec un échantillonnage fixe\n",
    "\n",
    "##### **Paramètres :**  \n",
    "- **n1** : taille du premier échantillon  \n",
    "- **k1** : seuil d'acceptation du premier échantillon  \n",
    "- **α** : proportion maximale de déchets tolérée  \n",
    "- **n2** : taille du deuxième échantillon (dans le cas de la deuxième règle)  \n",
    "- **k2** : seuil d'acceptation pour l'échantillon de taille 200  \n",
    "\n",
    "##### **Retourne :**  \n",
    "- **Risque d'accepter un lot contenant plus de 8% de déchets**  \n",
    "- **Risque de refuser un lot contenant moins de 3% de déchets**  \n",
    "- **Risques équivalents avec un échantillon plus grand**  "
   ]
  },
  {
   "cell_type": "code",
   "execution_count": 48,
   "metadata": {},
   "outputs": [],
   "source": [
    "def exercice2(n1=100, k1=3, alpha=0.08, n2=200, k2=9):\n",
    "\n",
    "    # Risque d'accepter un lot contenant plus de 8% de déchets\n",
    "    p_risque1 = 1 - poisson.cdf(k1, n1 * alpha)\n",
    "    \n",
    "    # Risque de refuser un lot contenant moins de 3% de déchets\n",
    "    p_risque2 = poisson.cdf(k1, n1 * 0.03)\n",
    "    \n",
    "    # Risque d'accepter un lot contenant plus de 8% de déchets avec un échantillon plus grand\n",
    "    p_risque1_2 = 1 - poisson.cdf(k2, n2 * alpha)\n",
    "    \n",
    "    # Risque de refuser un lot contenant moins de 3% de déchets avec un échantillon plus grand\n",
    "    p_risque2_2 = poisson.cdf(k2, n2 * 0.03)\n",
    "    \n",
    "    return p_risque1, p_risque2, p_risque1_2, p_risque2_2"
   ]
  },
  {
   "cell_type": "code",
   "execution_count": 49,
   "metadata": {},
   "outputs": [
    {
     "name": "stdout",
     "output_type": "stream",
     "text": [
      "Risque d'accepter un lot contenant plus de 8% de déchets (n=100) : 0.9576\n",
      "Risque de refuser un lot contenant moins de 3% de déchets (n=100) : 0.6472\n",
      "Risque d'accepter un lot contenant plus de 8% de déchets (n=200) : 0.9567\n",
      "Risque de refuser un lot contenant moins de 3% de déchets (n=200) : 0.9161\n"
     ]
    }
   ],
   "source": [
    "risques = exercice2()\n",
    "print(f\"Risque d'accepter un lot contenant plus de 8% de déchets (n=100) : {risques[0]:.4f}\")\n",
    "print(f\"Risque de refuser un lot contenant moins de 3% de déchets (n=100) : {risques[1]:.4f}\")\n",
    "print(f\"Risque d'accepter un lot contenant plus de 8% de déchets (n=200) : {risques[2]:.4f}\")\n",
    "print(f\"Risque de refuser un lot contenant moins de 3% de déchets (n=200) : {risques[3]:.4f}\")"
   ]
  },
  {
   "cell_type": "markdown",
   "metadata": {},
   "source": [
    ">#### Exercice 3 : Comparaison des méthodes A et B pour l'acceptation d'un lot  \n",
    "\n",
    "##### **Paramètres :**  \n",
    "- **n** : taille de l'échantillon prélevé  \n",
    "- **a, b** : seuils de rejet et d'acceptation  \n",
    "- **μ** : moyenne des diamètres  \n",
    "- **σ** : écart-type des diamètres  \n",
    "\n",
    "##### **Retourne :**  \n",
    "- **Probabilité de rejeter un lot avec la méthode A**  \n",
    "- **Probabilité de rejeter un lot avec la méthode B**  "
   ]
  },
  {
   "cell_type": "code",
   "execution_count": 50,
   "metadata": {},
   "outputs": [],
   "source": [
    "def exercice3(n, a, b, mu=110, sigma=8):\n",
    "    \n",
    "    # Méthode A : Test basé sur la moyenne\n",
    "    p_rej_A = 1 - norm.cdf(b, loc=mu, scale=sigma / np.sqrt(n)) + norm.cdf(a, loc=mu, scale=sigma / np.sqrt(n))\n",
    "    \n",
    "    # Méthode B : Test basé sur le comptage des défectueux\n",
    "    p_defaut = 0.0124  # Proportion de déchets quand la machine est bien réglée\n",
    "    p_rej_B = 1 - poisson.cdf(8, 300 * p_defaut)\n",
    "    \n",
    "    return p_rej_A, p_rej_B\n"
   ]
  },
  {
   "cell_type": "code",
   "execution_count": 51,
   "metadata": {},
   "outputs": [
    {
     "name": "stdout",
     "output_type": "stream",
     "text": [
      "Probabilité de rejet avec la méthode A : 0.0000\n",
      "Probabilité de rejet avec la méthode B : 0.0141\n"
     ]
    }
   ],
   "source": [
    "n = 30  # Taille de l'échantillon\n",
    "a, b = 95, 125  # Seuils d'acceptation\n",
    "p_rej_A, p_rej_B = exercice3(n, a, b)\n",
    "\n",
    "print(f\"Probabilité de rejet avec la méthode A : {p_rej_A:.4f}\")\n",
    "print(f\"Probabilité de rejet avec la méthode B : {p_rej_B:.4f}\")"
   ]
  },
  {
   "cell_type": "markdown",
   "metadata": {},
   "source": [
    ">#### Exercice 4 : Probabilité qu'une mesure dépasse 7.7 ppm\n",
    "\n",
    "##### **Paramètres :**  \n",
    "- **μ** : moyenne de la teneur du polluant  \n",
    "- **σ** : écart-type de la teneur du polluant  \n",
    "- **mesure_erreur** : écart-type de l'erreur de mesure  \n",
    "\n",
    "##### **Retourne :**  \n",
    "- **Probabilité qu'une mesure unique dépasse 7.7 ppm**  \n",
    "- **Probabilité que la moyenne de deux mesures dépasse 7.7 ppm**  "
   ]
  },
  {
   "cell_type": "code",
   "execution_count": 52,
   "metadata": {},
   "outputs": [],
   "source": [
    "def exercice4(mu=7.6, sigma=0.04, mesure_erreur=0.03):\n",
    "\n",
    "    # Écart-type combiné pour une seule mesure\n",
    "    sigma_total_1 = np.sqrt(sigma**2 + mesure_erreur**2)\n",
    "    p_1 = 1 - norm.cdf(7.7, loc=mu, scale=sigma_total_1)\n",
    "\n",
    "    # Écart-type combiné pour la moyenne de deux mesures\n",
    "    sigma_total_2 = np.sqrt(sigma**2 / 2 + mesure_erreur**2 / 2)\n",
    "    p_2 = 1 - norm.cdf(7.7, loc=mu, scale=sigma_total_2)\n",
    "\n",
    "    return p_1, p_2"
   ]
  },
  {
   "cell_type": "code",
   "execution_count": 53,
   "metadata": {},
   "outputs": [
    {
     "name": "stdout",
     "output_type": "stream",
     "text": [
      "Probabilité qu'une mesure dépasse 7.7 ppm : 0.0228\n",
      "Probabilité que la moyenne de 2 mesures dépasse 7.7 ppm : 0.0023\n"
     ]
    }
   ],
   "source": [
    "p_1, p_2 = exercice4()\n",
    "\n",
    "print(f\"Probabilité qu'une mesure dépasse 7.7 ppm : {p_1:.4f}\")\n",
    "print(f\"Probabilité que la moyenne de 2 mesures dépasse 7.7 ppm : {p_2:.4f}\")"
   ]
  },
  {
   "cell_type": "markdown",
   "metadata": {},
   "source": [
    ">#### Exercice 5 : Détermination du nombre d'échantillons nécessaires pour un test de résistance  \n",
    "\n",
    "##### **Paramètres :**  \n",
    "- **n** : nombre d'éprouvettes testées  \n",
    "- **x** : seuil de résistance moyen pour accepter ou refuser le lot  \n",
    "- **σ** : écart-type de la résistance des éprouvettes (fixé à 20 kg/mm²)  \n",
    "\n",
    "##### **Retourne :**  \n",
    "- **Nombre minimal d'éprouvettes pour que la probabilité d'accepter un lot de résistance ≤ 80 soit au plus 0.001**  \n",
    "- **Nombre minimal d'éprouvettes pour que la probabilité de refuser un lot de résistance ≥ 100 soit au plus 0.01**  "
   ]
  },
  {
   "cell_type": "code",
   "execution_count": 54,
   "metadata": {},
   "outputs": [],
   "source": [
    "def exercice5(n, x, sigma=20):\n",
    "\n",
    "    # Seuils de probabilité pour 80 kg/mm² et 100 kg/mm²\n",
    "    z1 = norm.ppf(0.001)  # Quantile pour probabilité 0.001\n",
    "    z2 = norm.ppf(0.99)   # Quantile pour probabilité 0.01\n",
    "\n",
    "    # Calcul du nombre minimal d'éprouvettes à tester\n",
    "    n_min = ((z1 * sigma) / (80 - x))**2\n",
    "    n_max = ((z2 * sigma) / (100 - x))**2\n",
    "\n",
    "    return np.ceil(n_min), np.ceil(n_max)"
   ]
  },
  {
   "cell_type": "code",
   "execution_count": 55,
   "metadata": {},
   "outputs": [
    {
     "name": "stdout",
     "output_type": "stream",
     "text": [
      "Nombre minimal d'éprouvettes pour que la probabilité d'accepter un lot ≤ 80 soit au plus 0.001 : 39.0\n",
      "Nombre minimal d'éprouvettes pour que la probabilité de refuser un lot ≥ 100 soit au plus 0.01 : 22.0\n"
     ]
    }
   ],
   "source": [
    "n_min, n_max = exercice5(n=10, x=90)  # Exemple avec un seuil de 90 kg/mm²\n",
    "\n",
    "print(f\"Nombre minimal d'éprouvettes pour que la probabilité d'accepter un lot ≤ 80 soit au plus 0.001 : {n_min}\")\n",
    "print(f\"Nombre minimal d'éprouvettes pour que la probabilité de refuser un lot ≥ 100 soit au plus 0.01 : {n_max}\")"
   ]
  },
  {
   "cell_type": "markdown",
   "metadata": {},
   "source": [
    ">#### Exercice 6 : Vérification de l'état d'un lot de fusées après stockage de 2 ans  \n",
    "\n",
    "##### **Paramètres :**  \n",
    "- **n** : nombre de fusées testées  \n",
    "- **μ** : portée moyenne initiale des fusées (2000 mètres)  \n",
    "- **σ** : écart-type de la portée des fusées (100 mètres)  \n",
    "- **Δ** : diminution de la portée moyenne considérée (100 mètres)  \n",
    "\n",
    "##### **Retourne :**  \n",
    "- **Probabilité de réformer le lot si la portée moyenne a diminué de 100 mètres**  \n",
    "- **Probabilité de réformer le lot si la portée moyenne n'a pas changé**  "
   ]
  },
  {
   "cell_type": "code",
   "execution_count": 56,
   "metadata": {},
   "outputs": [],
   "source": [
    "def exercice6(n, mu=2000, sigma=100, delta=100):\n",
    "\n",
    "    # Probabilité de reformer le lot si la portée moyenne a diminué de 100 mètres\n",
    "    p_reforme_diminution = 1 - norm.cdf(mu - delta, loc=mu, scale=sigma / np.sqrt(n))\n",
    "    \n",
    "    # Probabilité de reformer le lot si la portée moyenne est restée stable\n",
    "    p_reforme_stable = 1 - norm.cdf(mu, loc=mu, scale=sigma / np.sqrt(n))\n",
    "\n",
    "    return p_reforme_diminution, p_reforme_stable"
   ]
  },
  {
   "cell_type": "code",
   "execution_count": 57,
   "metadata": {},
   "outputs": [
    {
     "name": "stdout",
     "output_type": "stream",
     "text": [
      "Probabilité de réformer le lot si la portée moyenne a diminué de 100 mètres : 1.0000\n",
      "Probabilité de réformer le lot si la portée moyenne est restée la même : 0.5000\n"
     ]
    }
   ],
   "source": [
    "n = 30  # Nombre de fusées testées\n",
    "p_reforme_diminution, p_reforme_stable = exercice6(n)\n",
    "\n",
    "print(f\"Probabilité de réformer le lot si la portée moyenne a diminué de 100 mètres : {p_reforme_diminution:.4f}\")\n",
    "print(f\"Probabilité de réformer le lot si la portée moyenne est restée la même : {p_reforme_stable:.4f}\")"
   ]
  }
 ],
 "metadata": {
  "kernelspec": {
   "display_name": "base",
   "language": "python",
   "name": "python3"
  },
  "language_info": {
   "codemirror_mode": {
    "name": "ipython",
    "version": 3
   },
   "file_extension": ".py",
   "mimetype": "text/x-python",
   "name": "python",
   "nbconvert_exporter": "python",
   "pygments_lexer": "ipython3",
   "version": "3.11.5"
  }
 },
 "nbformat": 4,
 "nbformat_minor": 2
}
