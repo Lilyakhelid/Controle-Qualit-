{
 "cells": [
  {
   "cell_type": "markdown",
   "id": "5e15baa9",
   "metadata": {},
   "source": [
    "# **TP : Étude des Tests Statistiques**\n",
    "\n",
    "### **Auteur : KHELID Lilya-Nada**\n",
    "\n",
    "---\n",
    "\n",
    "### **Objectifs :**\n",
    "\n",
    "Dans ce notebook, nous allons explorer différents tests statistiques abordés en cours. Les thématiques principales sont :\n",
    "\n",
    "1. **Visualisation des données.**  \n",
    "2. **Tests d'adéquation à une loi.**  \n",
    "3. **Comparaison de groupes.**  \n",
    "4. **Influence de la taille des échantillons.**\n",
    "\n",
    "---\n",
    "\n"
   ]
  },
  {
   "cell_type": "code",
   "execution_count": 1,
   "id": "e3c04f8f",
   "metadata": {},
   "outputs": [],
   "source": [
    "\n",
    "import numpy as np\n",
    "import pandas as pd\n",
    "import matplotlib.pyplot as plt\n",
    "import seaborn as sns\n",
    "import plotly.graph_objects as go\n",
    "import plotly.express as px\n",
    "from plotly.subplots import make_subplots\n",
    "\n",
    "from scipy.stats import (\n",
    "    ttest_1samp, ttest_ind, mannwhitneyu, shapiro, kstest, wilcoxon,\n",
    "    f_oneway, pearsonr, spearmanr, binom, fisher_exact,\n",
    "    kruskal, friedmanchisquare, chisquare\n",
    ")\n",
    "import scipy.stats as stats\n",
    "import statsmodels.api as sm\n",
    "from statsmodels.stats.diagnostic import lilliefors\n"
   ]
  },
  {
   "cell_type": "markdown",
   "id": "0b46d2fa",
   "metadata": {},
   "source": [
    "### **Génération de Données : Loi Binomiale**\n",
    "\n",
    "Considérons une distribution binomiale définie par :  \n",
    "- $n$ : Nombre total d'essais  (n=trials)\n",
    "- $p$ : Probabilité de succès  (p=probability)\n",
    "\n",
    "La loi binomiale, notée $ \\mathcal{B}(n, p) $, modélise le nombre de succès obtenus sur $n$ essais indépendants, chaque essai ayant une probabilité $p$ de succès.\n",
    "\n",
    "Nous générons un échantillon de données suivant cette distribution pour les analyser et les visualiser.\n",
    "  \n"
   ]
  },
  {
   "cell_type": "code",
   "execution_count": 2,
   "id": "e708ce19",
   "metadata": {},
   "outputs": [],
   "source": [
    "trials = 15\n",
    "probability = 1/3\n",
    "size_of_array = 100\n",
    "data_bin = np.random.binomial(trials,probability,size_of_array)\n"
   ]
  },
  {
   "cell_type": "markdown",
   "id": "7d08ed09",
   "metadata": {},
   "source": [
    "### **Génération de Données : Loi Normale**\n",
    "\n",
    "Considérons une distribution normale définie par :  \n",
    "- $ \\mu $ : La moyenne (ou espérance) de la distribution  ($ \\mu $ = nu)\n",
    "- $ \\sigma $ : L'écart type ($ \\sigma $ = sigma)                              \n",
    "\n",
    "La loi normale, notée $ \\mathcal{N}(\\mu, \\sigma^2) $, modélise des données continues réparties symétriquement autour de leur moyenne $ \\mu $, avec une dispersion déterminée par $ \\sigma $. \n",
    "\n",
    "Nous générons un échantillon de données suivant cette distribution pour les analyser et les visualiser.\n"
   ]
  },
  {
   "cell_type": "code",
   "execution_count": 3,
   "id": "a5061b60",
   "metadata": {},
   "outputs": [],
   "source": [
    "nu = 5\n",
    "sigma = 2\n",
    "size_of_array = 100\n",
    "data_norm = np.random.normal(nu,sigma,size_of_array)"
   ]
  },
  {
   "cell_type": "markdown",
   "id": "aa8ce7cd",
   "metadata": {},
   "source": [
    "### **Visualisation des Données**\n",
    "\n",
    "Pour mieux comprendre la répartition des données générées, nous les représentons graphiquement.  \n"
   ]
  },
  {
   "cell_type": "code",
   "execution_count": 4,
   "id": "56afad6f",
   "metadata": {},
   "outputs": [
    {
     "data": {
      "application/vnd.plotly.v1+json": {
       "config": {
        "plotlyServerURL": "https://plot.ly"
       },
       "data": [
        {
         "mode": "markers",
         "name": "Normale",
         "type": "scatter",
         "x": [
          0,
          1,
          2,
          3,
          4,
          5,
          6,
          7,
          8,
          9,
          10,
          11,
          12,
          13,
          14,
          15,
          16,
          17,
          18,
          19,
          20,
          21,
          22,
          23,
          24,
          25,
          26,
          27,
          28,
          29,
          30,
          31,
          32,
          33,
          34,
          35,
          36,
          37,
          38,
          39,
          40,
          41,
          42,
          43,
          44,
          45,
          46,
          47,
          48,
          49,
          50,
          51,
          52,
          53,
          54,
          55,
          56,
          57,
          58,
          59,
          60,
          61,
          62,
          63,
          64,
          65,
          66,
          67,
          68,
          69,
          70,
          71,
          72,
          73,
          74,
          75,
          76,
          77,
          78,
          79,
          80,
          81,
          82,
          83,
          84,
          85,
          86,
          87,
          88,
          89,
          90,
          91,
          92,
          93,
          94,
          95,
          96,
          97,
          98,
          99
         ],
         "xaxis": "x",
         "y": [
          6.607362507564465,
          3.2115275005715813,
          1.5807502782854042,
          6.303599223926355,
          4.900103245138955,
          3.7529070023674596,
          3.0538070591124526,
          5.623030378119473,
          5.540613342999604,
          6.770520546848094,
          4.119584353370058,
          4.412143123089129,
          5.180804260082043,
          5.837587635985629,
          4.918440670712035,
          6.560381063086881,
          7.504251349625225,
          5.620329216681554,
          5.803927606100321,
          1.994905646762243,
          6.3126474232070695,
          7.071885793980787,
          5.446979564805525,
          1.9471289591627716,
          4.325716102342003,
          2.2408000737839653,
          4.199193295589845,
          2.429574193057538,
          4.3722002609705175,
          4.3086719377749185,
          4.213549775942203,
          6.6257684470703,
          6.531444574591848,
          2.8463584220294464,
          7.01562332787705,
          5.815097706105476,
          4.039227298077457,
          3.374519028785067,
          5.773292836573551,
          8.036564463881284,
          4.145056381733247,
          1.4201487301696987,
          3.5591926844701147,
          3.0355610288287873,
          8.17269726561517,
          2.6624773361091805,
          3.3827856272258146,
          -0.3136884620055804,
          6.4036862667329695,
          3.7382360345840118,
          7.728839512495012,
          6.119279363511428,
          3.6034076856925714,
          3.9817436350642454,
          5.411270043925142,
          6.161423748405677,
          9.323775092154726,
          2.620552737016552,
          5.451835357153717,
          7.161894257577842,
          4.922417224115375,
          -1.2772308833036643,
          5.8025555019579285,
          2.351754476933054,
          7.440334540531518,
          4.071419760024845,
          6.903627080192734,
          5.196158796401073,
          7.66589742160839,
          1.7804405328092745,
          6.4287812998928695,
          6.814711643749423,
          5.525793070880729,
          6.446985316576699,
          5.762363023741159,
          7.437530770602629,
          1.6709409019143626,
          4.129207992244076,
          5.422488934142658,
          1.777978780379518,
          6.625735150158156,
          3.1887632249956535,
          3.0320985024097573,
          6.4069277065354155,
          4.786964387984005,
          9.07138540529813,
          5.697781179850887,
          3.599365384324561,
          3.116494215539694,
          2.6671090268736144,
          7.978010620877351,
          7.084740496491088,
          3.912538559767074,
          5.583692265677378,
          2.8824728387163034,
          9.085741139184414,
          2.298307630042321,
          5.8502429745449085,
          7.031659384091519,
          3.7144048486806884
         ],
         "yaxis": "y"
        },
        {
         "mode": "markers",
         "name": "Binomiale",
         "type": "scatter",
         "x": [
          0,
          1,
          2,
          3,
          4,
          5,
          6,
          7,
          8,
          9,
          10,
          11,
          12,
          13,
          14,
          15,
          16,
          17,
          18,
          19,
          20,
          21,
          22,
          23,
          24,
          25,
          26,
          27,
          28,
          29,
          30,
          31,
          32,
          33,
          34,
          35,
          36,
          37,
          38,
          39,
          40,
          41,
          42,
          43,
          44,
          45,
          46,
          47,
          48,
          49,
          50,
          51,
          52,
          53,
          54,
          55,
          56,
          57,
          58,
          59,
          60,
          61,
          62,
          63,
          64,
          65,
          66,
          67,
          68,
          69,
          70,
          71,
          72,
          73,
          74,
          75,
          76,
          77,
          78,
          79,
          80,
          81,
          82,
          83,
          84,
          85,
          86,
          87,
          88,
          89,
          90,
          91,
          92,
          93,
          94,
          95,
          96,
          97,
          98,
          99
         ],
         "xaxis": "x2",
         "y": [
          4,
          6,
          3,
          6,
          5,
          3,
          4,
          5,
          7,
          2,
          10,
          4,
          7,
          2,
          8,
          8,
          2,
          4,
          6,
          6,
          1,
          3,
          7,
          6,
          4,
          5,
          6,
          5,
          3,
          7,
          8,
          5,
          6,
          5,
          8,
          4,
          6,
          4,
          2,
          3,
          5,
          5,
          10,
          5,
          5,
          10,
          7,
          7,
          5,
          7,
          3,
          4,
          11,
          5,
          7,
          4,
          4,
          5,
          7,
          6,
          5,
          3,
          9,
          9,
          5,
          4,
          2,
          4,
          6,
          3,
          7,
          5,
          5,
          8,
          5,
          5,
          5,
          8,
          3,
          3,
          3,
          5,
          6,
          1,
          5,
          7,
          8,
          4,
          5,
          6,
          5,
          5,
          4,
          6,
          4,
          6,
          1,
          5,
          4,
          2
         ],
         "yaxis": "y2"
        }
       ],
       "layout": {
        "annotations": [
         {
          "font": {
           "size": 16
          },
          "showarrow": false,
          "text": "Distribution normale",
          "x": 0.225,
          "xanchor": "center",
          "xref": "paper",
          "y": 1,
          "yanchor": "bottom",
          "yref": "paper"
         },
         {
          "font": {
           "size": 16
          },
          "showarrow": false,
          "text": "Distribution binomiale",
          "x": 0.775,
          "xanchor": "center",
          "xref": "paper",
          "y": 1,
          "yanchor": "bottom",
          "yref": "paper"
         }
        ],
        "shapes": [
         {
          "line": {
           "color": "red",
           "dash": "dash"
          },
          "type": "line",
          "x0": 0,
          "x1": 1,
          "xref": "x domain",
          "y0": 5,
          "y1": 5,
          "yref": "y"
         },
         {
          "line": {
           "color": "blue",
           "dash": "dash"
          },
          "type": "line",
          "x0": 0,
          "x1": 1,
          "xref": "x2 domain",
          "y0": 5,
          "y1": 5,
          "yref": "y2"
         }
        ],
        "template": {
         "data": {
          "bar": [
           {
            "error_x": {
             "color": "#2a3f5f"
            },
            "error_y": {
             "color": "#2a3f5f"
            },
            "marker": {
             "line": {
              "color": "#E5ECF6",
              "width": 0.5
             },
             "pattern": {
              "fillmode": "overlay",
              "size": 10,
              "solidity": 0.2
             }
            },
            "type": "bar"
           }
          ],
          "barpolar": [
           {
            "marker": {
             "line": {
              "color": "#E5ECF6",
              "width": 0.5
             },
             "pattern": {
              "fillmode": "overlay",
              "size": 10,
              "solidity": 0.2
             }
            },
            "type": "barpolar"
           }
          ],
          "carpet": [
           {
            "aaxis": {
             "endlinecolor": "#2a3f5f",
             "gridcolor": "white",
             "linecolor": "white",
             "minorgridcolor": "white",
             "startlinecolor": "#2a3f5f"
            },
            "baxis": {
             "endlinecolor": "#2a3f5f",
             "gridcolor": "white",
             "linecolor": "white",
             "minorgridcolor": "white",
             "startlinecolor": "#2a3f5f"
            },
            "type": "carpet"
           }
          ],
          "choropleth": [
           {
            "colorbar": {
             "outlinewidth": 0,
             "ticks": ""
            },
            "type": "choropleth"
           }
          ],
          "contour": [
           {
            "colorbar": {
             "outlinewidth": 0,
             "ticks": ""
            },
            "colorscale": [
             [
              0,
              "#0d0887"
             ],
             [
              0.1111111111111111,
              "#46039f"
             ],
             [
              0.2222222222222222,
              "#7201a8"
             ],
             [
              0.3333333333333333,
              "#9c179e"
             ],
             [
              0.4444444444444444,
              "#bd3786"
             ],
             [
              0.5555555555555556,
              "#d8576b"
             ],
             [
              0.6666666666666666,
              "#ed7953"
             ],
             [
              0.7777777777777778,
              "#fb9f3a"
             ],
             [
              0.8888888888888888,
              "#fdca26"
             ],
             [
              1,
              "#f0f921"
             ]
            ],
            "type": "contour"
           }
          ],
          "contourcarpet": [
           {
            "colorbar": {
             "outlinewidth": 0,
             "ticks": ""
            },
            "type": "contourcarpet"
           }
          ],
          "heatmap": [
           {
            "colorbar": {
             "outlinewidth": 0,
             "ticks": ""
            },
            "colorscale": [
             [
              0,
              "#0d0887"
             ],
             [
              0.1111111111111111,
              "#46039f"
             ],
             [
              0.2222222222222222,
              "#7201a8"
             ],
             [
              0.3333333333333333,
              "#9c179e"
             ],
             [
              0.4444444444444444,
              "#bd3786"
             ],
             [
              0.5555555555555556,
              "#d8576b"
             ],
             [
              0.6666666666666666,
              "#ed7953"
             ],
             [
              0.7777777777777778,
              "#fb9f3a"
             ],
             [
              0.8888888888888888,
              "#fdca26"
             ],
             [
              1,
              "#f0f921"
             ]
            ],
            "type": "heatmap"
           }
          ],
          "heatmapgl": [
           {
            "colorbar": {
             "outlinewidth": 0,
             "ticks": ""
            },
            "colorscale": [
             [
              0,
              "#0d0887"
             ],
             [
              0.1111111111111111,
              "#46039f"
             ],
             [
              0.2222222222222222,
              "#7201a8"
             ],
             [
              0.3333333333333333,
              "#9c179e"
             ],
             [
              0.4444444444444444,
              "#bd3786"
             ],
             [
              0.5555555555555556,
              "#d8576b"
             ],
             [
              0.6666666666666666,
              "#ed7953"
             ],
             [
              0.7777777777777778,
              "#fb9f3a"
             ],
             [
              0.8888888888888888,
              "#fdca26"
             ],
             [
              1,
              "#f0f921"
             ]
            ],
            "type": "heatmapgl"
           }
          ],
          "histogram": [
           {
            "marker": {
             "pattern": {
              "fillmode": "overlay",
              "size": 10,
              "solidity": 0.2
             }
            },
            "type": "histogram"
           }
          ],
          "histogram2d": [
           {
            "colorbar": {
             "outlinewidth": 0,
             "ticks": ""
            },
            "colorscale": [
             [
              0,
              "#0d0887"
             ],
             [
              0.1111111111111111,
              "#46039f"
             ],
             [
              0.2222222222222222,
              "#7201a8"
             ],
             [
              0.3333333333333333,
              "#9c179e"
             ],
             [
              0.4444444444444444,
              "#bd3786"
             ],
             [
              0.5555555555555556,
              "#d8576b"
             ],
             [
              0.6666666666666666,
              "#ed7953"
             ],
             [
              0.7777777777777778,
              "#fb9f3a"
             ],
             [
              0.8888888888888888,
              "#fdca26"
             ],
             [
              1,
              "#f0f921"
             ]
            ],
            "type": "histogram2d"
           }
          ],
          "histogram2dcontour": [
           {
            "colorbar": {
             "outlinewidth": 0,
             "ticks": ""
            },
            "colorscale": [
             [
              0,
              "#0d0887"
             ],
             [
              0.1111111111111111,
              "#46039f"
             ],
             [
              0.2222222222222222,
              "#7201a8"
             ],
             [
              0.3333333333333333,
              "#9c179e"
             ],
             [
              0.4444444444444444,
              "#bd3786"
             ],
             [
              0.5555555555555556,
              "#d8576b"
             ],
             [
              0.6666666666666666,
              "#ed7953"
             ],
             [
              0.7777777777777778,
              "#fb9f3a"
             ],
             [
              0.8888888888888888,
              "#fdca26"
             ],
             [
              1,
              "#f0f921"
             ]
            ],
            "type": "histogram2dcontour"
           }
          ],
          "mesh3d": [
           {
            "colorbar": {
             "outlinewidth": 0,
             "ticks": ""
            },
            "type": "mesh3d"
           }
          ],
          "parcoords": [
           {
            "line": {
             "colorbar": {
              "outlinewidth": 0,
              "ticks": ""
             }
            },
            "type": "parcoords"
           }
          ],
          "pie": [
           {
            "automargin": true,
            "type": "pie"
           }
          ],
          "scatter": [
           {
            "fillpattern": {
             "fillmode": "overlay",
             "size": 10,
             "solidity": 0.2
            },
            "type": "scatter"
           }
          ],
          "scatter3d": [
           {
            "line": {
             "colorbar": {
              "outlinewidth": 0,
              "ticks": ""
             }
            },
            "marker": {
             "colorbar": {
              "outlinewidth": 0,
              "ticks": ""
             }
            },
            "type": "scatter3d"
           }
          ],
          "scattercarpet": [
           {
            "marker": {
             "colorbar": {
              "outlinewidth": 0,
              "ticks": ""
             }
            },
            "type": "scattercarpet"
           }
          ],
          "scattergeo": [
           {
            "marker": {
             "colorbar": {
              "outlinewidth": 0,
              "ticks": ""
             }
            },
            "type": "scattergeo"
           }
          ],
          "scattergl": [
           {
            "marker": {
             "colorbar": {
              "outlinewidth": 0,
              "ticks": ""
             }
            },
            "type": "scattergl"
           }
          ],
          "scattermapbox": [
           {
            "marker": {
             "colorbar": {
              "outlinewidth": 0,
              "ticks": ""
             }
            },
            "type": "scattermapbox"
           }
          ],
          "scatterpolar": [
           {
            "marker": {
             "colorbar": {
              "outlinewidth": 0,
              "ticks": ""
             }
            },
            "type": "scatterpolar"
           }
          ],
          "scatterpolargl": [
           {
            "marker": {
             "colorbar": {
              "outlinewidth": 0,
              "ticks": ""
             }
            },
            "type": "scatterpolargl"
           }
          ],
          "scatterternary": [
           {
            "marker": {
             "colorbar": {
              "outlinewidth": 0,
              "ticks": ""
             }
            },
            "type": "scatterternary"
           }
          ],
          "surface": [
           {
            "colorbar": {
             "outlinewidth": 0,
             "ticks": ""
            },
            "colorscale": [
             [
              0,
              "#0d0887"
             ],
             [
              0.1111111111111111,
              "#46039f"
             ],
             [
              0.2222222222222222,
              "#7201a8"
             ],
             [
              0.3333333333333333,
              "#9c179e"
             ],
             [
              0.4444444444444444,
              "#bd3786"
             ],
             [
              0.5555555555555556,
              "#d8576b"
             ],
             [
              0.6666666666666666,
              "#ed7953"
             ],
             [
              0.7777777777777778,
              "#fb9f3a"
             ],
             [
              0.8888888888888888,
              "#fdca26"
             ],
             [
              1,
              "#f0f921"
             ]
            ],
            "type": "surface"
           }
          ],
          "table": [
           {
            "cells": {
             "fill": {
              "color": "#EBF0F8"
             },
             "line": {
              "color": "white"
             }
            },
            "header": {
             "fill": {
              "color": "#C8D4E3"
             },
             "line": {
              "color": "white"
             }
            },
            "type": "table"
           }
          ]
         },
         "layout": {
          "annotationdefaults": {
           "arrowcolor": "#2a3f5f",
           "arrowhead": 0,
           "arrowwidth": 1
          },
          "autotypenumbers": "strict",
          "coloraxis": {
           "colorbar": {
            "outlinewidth": 0,
            "ticks": ""
           }
          },
          "colorscale": {
           "diverging": [
            [
             0,
             "#8e0152"
            ],
            [
             0.1,
             "#c51b7d"
            ],
            [
             0.2,
             "#de77ae"
            ],
            [
             0.3,
             "#f1b6da"
            ],
            [
             0.4,
             "#fde0ef"
            ],
            [
             0.5,
             "#f7f7f7"
            ],
            [
             0.6,
             "#e6f5d0"
            ],
            [
             0.7,
             "#b8e186"
            ],
            [
             0.8,
             "#7fbc41"
            ],
            [
             0.9,
             "#4d9221"
            ],
            [
             1,
             "#276419"
            ]
           ],
           "sequential": [
            [
             0,
             "#0d0887"
            ],
            [
             0.1111111111111111,
             "#46039f"
            ],
            [
             0.2222222222222222,
             "#7201a8"
            ],
            [
             0.3333333333333333,
             "#9c179e"
            ],
            [
             0.4444444444444444,
             "#bd3786"
            ],
            [
             0.5555555555555556,
             "#d8576b"
            ],
            [
             0.6666666666666666,
             "#ed7953"
            ],
            [
             0.7777777777777778,
             "#fb9f3a"
            ],
            [
             0.8888888888888888,
             "#fdca26"
            ],
            [
             1,
             "#f0f921"
            ]
           ],
           "sequentialminus": [
            [
             0,
             "#0d0887"
            ],
            [
             0.1111111111111111,
             "#46039f"
            ],
            [
             0.2222222222222222,
             "#7201a8"
            ],
            [
             0.3333333333333333,
             "#9c179e"
            ],
            [
             0.4444444444444444,
             "#bd3786"
            ],
            [
             0.5555555555555556,
             "#d8576b"
            ],
            [
             0.6666666666666666,
             "#ed7953"
            ],
            [
             0.7777777777777778,
             "#fb9f3a"
            ],
            [
             0.8888888888888888,
             "#fdca26"
            ],
            [
             1,
             "#f0f921"
            ]
           ]
          },
          "colorway": [
           "#636efa",
           "#EF553B",
           "#00cc96",
           "#ab63fa",
           "#FFA15A",
           "#19d3f3",
           "#FF6692",
           "#B6E880",
           "#FF97FF",
           "#FECB52"
          ],
          "font": {
           "color": "#2a3f5f"
          },
          "geo": {
           "bgcolor": "white",
           "lakecolor": "white",
           "landcolor": "#E5ECF6",
           "showlakes": true,
           "showland": true,
           "subunitcolor": "white"
          },
          "hoverlabel": {
           "align": "left"
          },
          "hovermode": "closest",
          "mapbox": {
           "style": "light"
          },
          "paper_bgcolor": "white",
          "plot_bgcolor": "#E5ECF6",
          "polar": {
           "angularaxis": {
            "gridcolor": "white",
            "linecolor": "white",
            "ticks": ""
           },
           "bgcolor": "#E5ECF6",
           "radialaxis": {
            "gridcolor": "white",
            "linecolor": "white",
            "ticks": ""
           }
          },
          "scene": {
           "xaxis": {
            "backgroundcolor": "#E5ECF6",
            "gridcolor": "white",
            "gridwidth": 2,
            "linecolor": "white",
            "showbackground": true,
            "ticks": "",
            "zerolinecolor": "white"
           },
           "yaxis": {
            "backgroundcolor": "#E5ECF6",
            "gridcolor": "white",
            "gridwidth": 2,
            "linecolor": "white",
            "showbackground": true,
            "ticks": "",
            "zerolinecolor": "white"
           },
           "zaxis": {
            "backgroundcolor": "#E5ECF6",
            "gridcolor": "white",
            "gridwidth": 2,
            "linecolor": "white",
            "showbackground": true,
            "ticks": "",
            "zerolinecolor": "white"
           }
          },
          "shapedefaults": {
           "line": {
            "color": "#2a3f5f"
           }
          },
          "ternary": {
           "aaxis": {
            "gridcolor": "white",
            "linecolor": "white",
            "ticks": ""
           },
           "baxis": {
            "gridcolor": "white",
            "linecolor": "white",
            "ticks": ""
           },
           "bgcolor": "#E5ECF6",
           "caxis": {
            "gridcolor": "white",
            "linecolor": "white",
            "ticks": ""
           }
          },
          "title": {
           "x": 0.05
          },
          "xaxis": {
           "automargin": true,
           "gridcolor": "white",
           "linecolor": "white",
           "ticks": "",
           "title": {
            "standoff": 15
           },
           "zerolinecolor": "white",
           "zerolinewidth": 2
          },
          "yaxis": {
           "automargin": true,
           "gridcolor": "white",
           "linecolor": "white",
           "ticks": "",
           "title": {
            "standoff": 15
           },
           "zerolinecolor": "white",
           "zerolinewidth": 2
          }
         }
        },
        "xaxis": {
         "anchor": "y",
         "domain": [
          0,
          0.45
         ]
        },
        "xaxis2": {
         "anchor": "y2",
         "domain": [
          0.55,
          1
         ]
        },
        "yaxis": {
         "anchor": "x",
         "domain": [
          0,
          1
         ]
        },
        "yaxis2": {
         "anchor": "x2",
         "domain": [
          0,
          1
         ]
        }
       }
      }
     },
     "metadata": {},
     "output_type": "display_data"
    }
   ],
   "source": [
    "fig = make_subplots(rows=1, cols=2, subplot_titles=[\"Distribution normale\", \"Distribution binomiale\"])\n",
    "\n",
    "fig.add_trace(go.Scatter(x=list(range(size_of_array)), y=data_norm, mode='markers', name=\"Normale\"), row=1, col=1)\n",
    "fig.add_hline(y=nu, row=1, col=1, line_dash=\"dash\", line_color=\"red\") #moyenne\n",
    "\n",
    "fig.add_trace(go.Scatter(x=list(range(size_of_array)), y=data_bin, mode='markers', name=\"Binomiale\"), row=1, col=2)\n",
    "fig.add_hline(y=trials * probability, row=1, col=2, line_dash=\"dash\", line_color=\"blue\") #moyenne\n",
    "\n",
    "fig.show()\n"
   ]
  },
  {
   "cell_type": "code",
   "execution_count": 5,
   "id": "5b59b089",
   "metadata": {},
   "outputs": [
    {
     "data": {
      "application/vnd.plotly.v1+json": {
       "config": {
        "plotlyServerURL": "https://plot.ly"
       },
       "data": [
        {
         "marker": {
          "color": "blue"
         },
         "nbinsx": 20,
         "type": "histogram",
         "x": [
          6.607362507564465,
          3.2115275005715813,
          1.5807502782854042,
          6.303599223926355,
          4.900103245138955,
          3.7529070023674596,
          3.0538070591124526,
          5.623030378119473,
          5.540613342999604,
          6.770520546848094,
          4.119584353370058,
          4.412143123089129,
          5.180804260082043,
          5.837587635985629,
          4.918440670712035,
          6.560381063086881,
          7.504251349625225,
          5.620329216681554,
          5.803927606100321,
          1.994905646762243,
          6.3126474232070695,
          7.071885793980787,
          5.446979564805525,
          1.9471289591627716,
          4.325716102342003,
          2.2408000737839653,
          4.199193295589845,
          2.429574193057538,
          4.3722002609705175,
          4.3086719377749185,
          4.213549775942203,
          6.6257684470703,
          6.531444574591848,
          2.8463584220294464,
          7.01562332787705,
          5.815097706105476,
          4.039227298077457,
          3.374519028785067,
          5.773292836573551,
          8.036564463881284,
          4.145056381733247,
          1.4201487301696987,
          3.5591926844701147,
          3.0355610288287873,
          8.17269726561517,
          2.6624773361091805,
          3.3827856272258146,
          -0.3136884620055804,
          6.4036862667329695,
          3.7382360345840118,
          7.728839512495012,
          6.119279363511428,
          3.6034076856925714,
          3.9817436350642454,
          5.411270043925142,
          6.161423748405677,
          9.323775092154726,
          2.620552737016552,
          5.451835357153717,
          7.161894257577842,
          4.922417224115375,
          -1.2772308833036643,
          5.8025555019579285,
          2.351754476933054,
          7.440334540531518,
          4.071419760024845,
          6.903627080192734,
          5.196158796401073,
          7.66589742160839,
          1.7804405328092745,
          6.4287812998928695,
          6.814711643749423,
          5.525793070880729,
          6.446985316576699,
          5.762363023741159,
          7.437530770602629,
          1.6709409019143626,
          4.129207992244076,
          5.422488934142658,
          1.777978780379518,
          6.625735150158156,
          3.1887632249956535,
          3.0320985024097573,
          6.4069277065354155,
          4.786964387984005,
          9.07138540529813,
          5.697781179850887,
          3.599365384324561,
          3.116494215539694,
          2.6671090268736144,
          7.978010620877351,
          7.084740496491088,
          3.912538559767074,
          5.583692265677378,
          2.8824728387163034,
          9.085741139184414,
          2.298307630042321,
          5.8502429745449085,
          7.031659384091519,
          3.7144048486806884
         ],
         "xaxis": "x",
         "yaxis": "y"
        },
        {
         "marker": {
          "color": "red"
         },
         "nbinsx": 20,
         "type": "histogram",
         "x": [
          4,
          6,
          3,
          6,
          5,
          3,
          4,
          5,
          7,
          2,
          10,
          4,
          7,
          2,
          8,
          8,
          2,
          4,
          6,
          6,
          1,
          3,
          7,
          6,
          4,
          5,
          6,
          5,
          3,
          7,
          8,
          5,
          6,
          5,
          8,
          4,
          6,
          4,
          2,
          3,
          5,
          5,
          10,
          5,
          5,
          10,
          7,
          7,
          5,
          7,
          3,
          4,
          11,
          5,
          7,
          4,
          4,
          5,
          7,
          6,
          5,
          3,
          9,
          9,
          5,
          4,
          2,
          4,
          6,
          3,
          7,
          5,
          5,
          8,
          5,
          5,
          5,
          8,
          3,
          3,
          3,
          5,
          6,
          1,
          5,
          7,
          8,
          4,
          5,
          6,
          5,
          5,
          4,
          6,
          4,
          6,
          1,
          5,
          4,
          2
         ],
         "xaxis": "x2",
         "yaxis": "y2"
        }
       ],
       "layout": {
        "annotations": [
         {
          "font": {
           "size": 16
          },
          "showarrow": false,
          "text": "Distribution normale",
          "x": 0.225,
          "xanchor": "center",
          "xref": "paper",
          "y": 1,
          "yanchor": "bottom",
          "yref": "paper"
         },
         {
          "font": {
           "size": 16
          },
          "showarrow": false,
          "text": "Distribution binomiale",
          "x": 0.775,
          "xanchor": "center",
          "xref": "paper",
          "y": 1,
          "yanchor": "bottom",
          "yref": "paper"
         }
        ],
        "template": {
         "data": {
          "bar": [
           {
            "error_x": {
             "color": "#2a3f5f"
            },
            "error_y": {
             "color": "#2a3f5f"
            },
            "marker": {
             "line": {
              "color": "#E5ECF6",
              "width": 0.5
             },
             "pattern": {
              "fillmode": "overlay",
              "size": 10,
              "solidity": 0.2
             }
            },
            "type": "bar"
           }
          ],
          "barpolar": [
           {
            "marker": {
             "line": {
              "color": "#E5ECF6",
              "width": 0.5
             },
             "pattern": {
              "fillmode": "overlay",
              "size": 10,
              "solidity": 0.2
             }
            },
            "type": "barpolar"
           }
          ],
          "carpet": [
           {
            "aaxis": {
             "endlinecolor": "#2a3f5f",
             "gridcolor": "white",
             "linecolor": "white",
             "minorgridcolor": "white",
             "startlinecolor": "#2a3f5f"
            },
            "baxis": {
             "endlinecolor": "#2a3f5f",
             "gridcolor": "white",
             "linecolor": "white",
             "minorgridcolor": "white",
             "startlinecolor": "#2a3f5f"
            },
            "type": "carpet"
           }
          ],
          "choropleth": [
           {
            "colorbar": {
             "outlinewidth": 0,
             "ticks": ""
            },
            "type": "choropleth"
           }
          ],
          "contour": [
           {
            "colorbar": {
             "outlinewidth": 0,
             "ticks": ""
            },
            "colorscale": [
             [
              0,
              "#0d0887"
             ],
             [
              0.1111111111111111,
              "#46039f"
             ],
             [
              0.2222222222222222,
              "#7201a8"
             ],
             [
              0.3333333333333333,
              "#9c179e"
             ],
             [
              0.4444444444444444,
              "#bd3786"
             ],
             [
              0.5555555555555556,
              "#d8576b"
             ],
             [
              0.6666666666666666,
              "#ed7953"
             ],
             [
              0.7777777777777778,
              "#fb9f3a"
             ],
             [
              0.8888888888888888,
              "#fdca26"
             ],
             [
              1,
              "#f0f921"
             ]
            ],
            "type": "contour"
           }
          ],
          "contourcarpet": [
           {
            "colorbar": {
             "outlinewidth": 0,
             "ticks": ""
            },
            "type": "contourcarpet"
           }
          ],
          "heatmap": [
           {
            "colorbar": {
             "outlinewidth": 0,
             "ticks": ""
            },
            "colorscale": [
             [
              0,
              "#0d0887"
             ],
             [
              0.1111111111111111,
              "#46039f"
             ],
             [
              0.2222222222222222,
              "#7201a8"
             ],
             [
              0.3333333333333333,
              "#9c179e"
             ],
             [
              0.4444444444444444,
              "#bd3786"
             ],
             [
              0.5555555555555556,
              "#d8576b"
             ],
             [
              0.6666666666666666,
              "#ed7953"
             ],
             [
              0.7777777777777778,
              "#fb9f3a"
             ],
             [
              0.8888888888888888,
              "#fdca26"
             ],
             [
              1,
              "#f0f921"
             ]
            ],
            "type": "heatmap"
           }
          ],
          "heatmapgl": [
           {
            "colorbar": {
             "outlinewidth": 0,
             "ticks": ""
            },
            "colorscale": [
             [
              0,
              "#0d0887"
             ],
             [
              0.1111111111111111,
              "#46039f"
             ],
             [
              0.2222222222222222,
              "#7201a8"
             ],
             [
              0.3333333333333333,
              "#9c179e"
             ],
             [
              0.4444444444444444,
              "#bd3786"
             ],
             [
              0.5555555555555556,
              "#d8576b"
             ],
             [
              0.6666666666666666,
              "#ed7953"
             ],
             [
              0.7777777777777778,
              "#fb9f3a"
             ],
             [
              0.8888888888888888,
              "#fdca26"
             ],
             [
              1,
              "#f0f921"
             ]
            ],
            "type": "heatmapgl"
           }
          ],
          "histogram": [
           {
            "marker": {
             "pattern": {
              "fillmode": "overlay",
              "size": 10,
              "solidity": 0.2
             }
            },
            "type": "histogram"
           }
          ],
          "histogram2d": [
           {
            "colorbar": {
             "outlinewidth": 0,
             "ticks": ""
            },
            "colorscale": [
             [
              0,
              "#0d0887"
             ],
             [
              0.1111111111111111,
              "#46039f"
             ],
             [
              0.2222222222222222,
              "#7201a8"
             ],
             [
              0.3333333333333333,
              "#9c179e"
             ],
             [
              0.4444444444444444,
              "#bd3786"
             ],
             [
              0.5555555555555556,
              "#d8576b"
             ],
             [
              0.6666666666666666,
              "#ed7953"
             ],
             [
              0.7777777777777778,
              "#fb9f3a"
             ],
             [
              0.8888888888888888,
              "#fdca26"
             ],
             [
              1,
              "#f0f921"
             ]
            ],
            "type": "histogram2d"
           }
          ],
          "histogram2dcontour": [
           {
            "colorbar": {
             "outlinewidth": 0,
             "ticks": ""
            },
            "colorscale": [
             [
              0,
              "#0d0887"
             ],
             [
              0.1111111111111111,
              "#46039f"
             ],
             [
              0.2222222222222222,
              "#7201a8"
             ],
             [
              0.3333333333333333,
              "#9c179e"
             ],
             [
              0.4444444444444444,
              "#bd3786"
             ],
             [
              0.5555555555555556,
              "#d8576b"
             ],
             [
              0.6666666666666666,
              "#ed7953"
             ],
             [
              0.7777777777777778,
              "#fb9f3a"
             ],
             [
              0.8888888888888888,
              "#fdca26"
             ],
             [
              1,
              "#f0f921"
             ]
            ],
            "type": "histogram2dcontour"
           }
          ],
          "mesh3d": [
           {
            "colorbar": {
             "outlinewidth": 0,
             "ticks": ""
            },
            "type": "mesh3d"
           }
          ],
          "parcoords": [
           {
            "line": {
             "colorbar": {
              "outlinewidth": 0,
              "ticks": ""
             }
            },
            "type": "parcoords"
           }
          ],
          "pie": [
           {
            "automargin": true,
            "type": "pie"
           }
          ],
          "scatter": [
           {
            "fillpattern": {
             "fillmode": "overlay",
             "size": 10,
             "solidity": 0.2
            },
            "type": "scatter"
           }
          ],
          "scatter3d": [
           {
            "line": {
             "colorbar": {
              "outlinewidth": 0,
              "ticks": ""
             }
            },
            "marker": {
             "colorbar": {
              "outlinewidth": 0,
              "ticks": ""
             }
            },
            "type": "scatter3d"
           }
          ],
          "scattercarpet": [
           {
            "marker": {
             "colorbar": {
              "outlinewidth": 0,
              "ticks": ""
             }
            },
            "type": "scattercarpet"
           }
          ],
          "scattergeo": [
           {
            "marker": {
             "colorbar": {
              "outlinewidth": 0,
              "ticks": ""
             }
            },
            "type": "scattergeo"
           }
          ],
          "scattergl": [
           {
            "marker": {
             "colorbar": {
              "outlinewidth": 0,
              "ticks": ""
             }
            },
            "type": "scattergl"
           }
          ],
          "scattermapbox": [
           {
            "marker": {
             "colorbar": {
              "outlinewidth": 0,
              "ticks": ""
             }
            },
            "type": "scattermapbox"
           }
          ],
          "scatterpolar": [
           {
            "marker": {
             "colorbar": {
              "outlinewidth": 0,
              "ticks": ""
             }
            },
            "type": "scatterpolar"
           }
          ],
          "scatterpolargl": [
           {
            "marker": {
             "colorbar": {
              "outlinewidth": 0,
              "ticks": ""
             }
            },
            "type": "scatterpolargl"
           }
          ],
          "scatterternary": [
           {
            "marker": {
             "colorbar": {
              "outlinewidth": 0,
              "ticks": ""
             }
            },
            "type": "scatterternary"
           }
          ],
          "surface": [
           {
            "colorbar": {
             "outlinewidth": 0,
             "ticks": ""
            },
            "colorscale": [
             [
              0,
              "#0d0887"
             ],
             [
              0.1111111111111111,
              "#46039f"
             ],
             [
              0.2222222222222222,
              "#7201a8"
             ],
             [
              0.3333333333333333,
              "#9c179e"
             ],
             [
              0.4444444444444444,
              "#bd3786"
             ],
             [
              0.5555555555555556,
              "#d8576b"
             ],
             [
              0.6666666666666666,
              "#ed7953"
             ],
             [
              0.7777777777777778,
              "#fb9f3a"
             ],
             [
              0.8888888888888888,
              "#fdca26"
             ],
             [
              1,
              "#f0f921"
             ]
            ],
            "type": "surface"
           }
          ],
          "table": [
           {
            "cells": {
             "fill": {
              "color": "#EBF0F8"
             },
             "line": {
              "color": "white"
             }
            },
            "header": {
             "fill": {
              "color": "#C8D4E3"
             },
             "line": {
              "color": "white"
             }
            },
            "type": "table"
           }
          ]
         },
         "layout": {
          "annotationdefaults": {
           "arrowcolor": "#2a3f5f",
           "arrowhead": 0,
           "arrowwidth": 1
          },
          "autotypenumbers": "strict",
          "coloraxis": {
           "colorbar": {
            "outlinewidth": 0,
            "ticks": ""
           }
          },
          "colorscale": {
           "diverging": [
            [
             0,
             "#8e0152"
            ],
            [
             0.1,
             "#c51b7d"
            ],
            [
             0.2,
             "#de77ae"
            ],
            [
             0.3,
             "#f1b6da"
            ],
            [
             0.4,
             "#fde0ef"
            ],
            [
             0.5,
             "#f7f7f7"
            ],
            [
             0.6,
             "#e6f5d0"
            ],
            [
             0.7,
             "#b8e186"
            ],
            [
             0.8,
             "#7fbc41"
            ],
            [
             0.9,
             "#4d9221"
            ],
            [
             1,
             "#276419"
            ]
           ],
           "sequential": [
            [
             0,
             "#0d0887"
            ],
            [
             0.1111111111111111,
             "#46039f"
            ],
            [
             0.2222222222222222,
             "#7201a8"
            ],
            [
             0.3333333333333333,
             "#9c179e"
            ],
            [
             0.4444444444444444,
             "#bd3786"
            ],
            [
             0.5555555555555556,
             "#d8576b"
            ],
            [
             0.6666666666666666,
             "#ed7953"
            ],
            [
             0.7777777777777778,
             "#fb9f3a"
            ],
            [
             0.8888888888888888,
             "#fdca26"
            ],
            [
             1,
             "#f0f921"
            ]
           ],
           "sequentialminus": [
            [
             0,
             "#0d0887"
            ],
            [
             0.1111111111111111,
             "#46039f"
            ],
            [
             0.2222222222222222,
             "#7201a8"
            ],
            [
             0.3333333333333333,
             "#9c179e"
            ],
            [
             0.4444444444444444,
             "#bd3786"
            ],
            [
             0.5555555555555556,
             "#d8576b"
            ],
            [
             0.6666666666666666,
             "#ed7953"
            ],
            [
             0.7777777777777778,
             "#fb9f3a"
            ],
            [
             0.8888888888888888,
             "#fdca26"
            ],
            [
             1,
             "#f0f921"
            ]
           ]
          },
          "colorway": [
           "#636efa",
           "#EF553B",
           "#00cc96",
           "#ab63fa",
           "#FFA15A",
           "#19d3f3",
           "#FF6692",
           "#B6E880",
           "#FF97FF",
           "#FECB52"
          ],
          "font": {
           "color": "#2a3f5f"
          },
          "geo": {
           "bgcolor": "white",
           "lakecolor": "white",
           "landcolor": "#E5ECF6",
           "showlakes": true,
           "showland": true,
           "subunitcolor": "white"
          },
          "hoverlabel": {
           "align": "left"
          },
          "hovermode": "closest",
          "mapbox": {
           "style": "light"
          },
          "paper_bgcolor": "white",
          "plot_bgcolor": "#E5ECF6",
          "polar": {
           "angularaxis": {
            "gridcolor": "white",
            "linecolor": "white",
            "ticks": ""
           },
           "bgcolor": "#E5ECF6",
           "radialaxis": {
            "gridcolor": "white",
            "linecolor": "white",
            "ticks": ""
           }
          },
          "scene": {
           "xaxis": {
            "backgroundcolor": "#E5ECF6",
            "gridcolor": "white",
            "gridwidth": 2,
            "linecolor": "white",
            "showbackground": true,
            "ticks": "",
            "zerolinecolor": "white"
           },
           "yaxis": {
            "backgroundcolor": "#E5ECF6",
            "gridcolor": "white",
            "gridwidth": 2,
            "linecolor": "white",
            "showbackground": true,
            "ticks": "",
            "zerolinecolor": "white"
           },
           "zaxis": {
            "backgroundcolor": "#E5ECF6",
            "gridcolor": "white",
            "gridwidth": 2,
            "linecolor": "white",
            "showbackground": true,
            "ticks": "",
            "zerolinecolor": "white"
           }
          },
          "shapedefaults": {
           "line": {
            "color": "#2a3f5f"
           }
          },
          "ternary": {
           "aaxis": {
            "gridcolor": "white",
            "linecolor": "white",
            "ticks": ""
           },
           "baxis": {
            "gridcolor": "white",
            "linecolor": "white",
            "ticks": ""
           },
           "bgcolor": "#E5ECF6",
           "caxis": {
            "gridcolor": "white",
            "linecolor": "white",
            "ticks": ""
           }
          },
          "title": {
           "x": 0.05
          },
          "xaxis": {
           "automargin": true,
           "gridcolor": "white",
           "linecolor": "white",
           "ticks": "",
           "title": {
            "standoff": 15
           },
           "zerolinecolor": "white",
           "zerolinewidth": 2
          },
          "yaxis": {
           "automargin": true,
           "gridcolor": "white",
           "linecolor": "white",
           "ticks": "",
           "title": {
            "standoff": 15
           },
           "zerolinecolor": "white",
           "zerolinewidth": 2
          }
         }
        },
        "xaxis": {
         "anchor": "y",
         "domain": [
          0,
          0.45
         ]
        },
        "xaxis2": {
         "anchor": "y2",
         "domain": [
          0.55,
          1
         ]
        },
        "yaxis": {
         "anchor": "x",
         "domain": [
          0,
          1
         ]
        },
        "yaxis2": {
         "anchor": "x2",
         "domain": [
          0,
          1
         ]
        }
       }
      }
     },
     "metadata": {},
     "output_type": "display_data"
    }
   ],
   "source": [
    "fig = make_subplots(rows=1, cols=2, subplot_titles=[\"Distribution normale\", \"Distribution binomiale\"])\n",
    "\n",
    "fig.add_trace(go.Histogram(x=data_norm, nbinsx=20,marker_color=\"blue\"), row=1, col=1,)\n",
    "fig.add_trace(go.Histogram(x=data_bin, nbinsx=20,marker_color=\"red\"), row=1, col=2)\n",
    "fig.show()\n"
   ]
  },
  {
   "cell_type": "markdown",
   "id": "fe971657",
   "metadata": {},
   "source": [
    "### **Application des Tests Statistiques**\n",
    "\n",
    "Afin d'analyser les propriétés des données générées, nous appliquons différents tests statistiques. Ces tests nous permettront de :  \n",
    "- Vérifier des hypothèses concernant la distribution des données .  \n",
    "- Comparer des groupes.  \n",
    "- Évaluer des relations entre les variables.\n"
   ]
  },
  {
   "cell_type": "markdown",
   "id": "d29dece3",
   "metadata": {},
   "source": [
    "### **Test de Normalité des Données**\n",
    "\n",
    "#### **Hypothèses :**\n",
    "- $H_0$ : Les données suivent une distribution normale.  \n",
    "- $H_1$ : Les données ne suivent pas une distribution normale.\n",
    "\n",
    "1. **Test de Shapiro-Wilk**  \n",
    "   - Idéal pour des échantillons de petite à moyenne taille.\n",
    "2. **Test de Kolmogorov-Smirnov**  \n",
    "   - Permet de tester la correspondance entre la distribution empirique des données et une distribution, ici normale.\n",
    "3. **Test de Lilliefors**  \n",
    "   - Une variante du test de Kolmogorov-Smirnov adaptée lorsque les paramètres de la distribution normale ($\\mu$ et $\\sigma$) sont estimés à partir des données.\n",
    "\n",
    "#### **Interprétation des résultats :**\n",
    "- $p < 0.05$ : Nous rejetons $H_0$.  \n",
    "- $p \\geq 0.05$ : Nous ne rejetons pas $H_0$.\n"
   ]
  },
  {
   "cell_type": "code",
   "execution_count": 6,
   "id": "0073b06f",
   "metadata": {},
   "outputs": [
    {
     "name": "stdout",
     "output_type": "stream",
     "text": [
      "shapiro\n",
      "0.3648892939090729\n",
      "Les données suivent une distribution normale\n",
      " \n",
      "kolmogorov smirnov\n",
      "0.6600012564007103\n",
      "Les données suivent une distribution normale\n",
      " \n",
      "lilliefors\n",
      "0.05531113959937137\n",
      "Les données suivent une distribution normale\n",
      " \n"
     ]
    }
   ],
   "source": [
    "test_dict = {\n",
    "            0 : 'shapiro',\n",
    "            1 : 'kolmogorov smirnov',\n",
    "            2 : 'lilliefors'\n",
    "}\n",
    "\n",
    "\n",
    "stat_shapiro, p_value_shapiro = shapiro(data_norm)\n",
    "\n",
    "stat_ks, p_value_ks = kstest(data_norm, 'norm',args=(5, 2))\n",
    "\n",
    "stat_lillie, p_value_lillie = lilliefors(data_norm)\n",
    "\n",
    "\n",
    "for i,p_value in enumerate([p_value_shapiro,p_value_ks,p_value_lillie]):\n",
    "    print(test_dict[i])\n",
    "    print(p_value)\n",
    "    if p_value >= 0.05:\n",
    "        print('Les données suivent une distribution normale')\n",
    "    else: \n",
    "        print(\"Les données ne suivent pas une distribution normale\")\n",
    "    print(' ')"
   ]
  },
  {
   "cell_type": "markdown",
   "id": "4e9fde16",
   "metadata": {},
   "source": [
    ">Le test de Lilliefors a échoué à valider la normalité, contrairement aux autres tests. Cela peut s'expliquer par :\n",
    ">- Le test de Lilliefors est sensible aux petites déviations dues à l'aléa.  \n",
    ">- Nous avons un trop petit échantillon\n"
   ]
  },
  {
   "cell_type": "markdown",
   "id": "2f46c8c1",
   "metadata": {},
   "source": [
    "### **Tests de la Binomialité des Données**\n",
    "\n",
    "#### **Hypothèses :**\n",
    "- $H_0$ : Les données suivent une distribution binomiale.  \n",
    "- $H_1$ : Les données ne suivent pas une distribution binomiale.\n",
    "\n",
    "#### **Tests effectués :**\n",
    "\n",
    "1. **Test de Kolmogorov-Smirnov (KS)**  \n",
    "   - Objectif : Vérifier la correspondance entre la distribution empirique des données et une distribution binomiale.\n",
    "   - Méthode : Compare la fonction de répartition empirique (ECDF) des données à la fonction de répartition théorique (CDF) de la loi binomiale.\n",
    "   - Limitation : Le test KS est moins fiable pour des distributions discrètes comme la binomiale.\n",
    "\n",
    "2. **Test du Chi-2**  \n",
    "   - Objectif : Comparer les fréquences observées dans les données à celles attendues pour une loi binomiale.\n",
    "   - Méthode : Calcule la somme des écarts normalisés entre les fréquences observées et théoriques.\n",
    "   - Avantage : Plus adapté aux distributions discrètes que le test KS, surtout pour de grands échantillons.\n"
   ]
  },
  {
   "cell_type": "code",
   "execution_count": 7,
   "id": "956d2b7d",
   "metadata": {},
   "outputs": [
    {
     "name": "stdout",
     "output_type": "stream",
     "text": [
      "P-value du test KS : 2.241550081622303e-06\n",
      "Les données ne suivent pas une distribution binomiale (KS Test)\n",
      "P-value du test Chi-2 : 0.3122966131557384\n",
      "Les données suivent une distribution binomiale (Chi-2 Test)\n"
     ]
    }
   ],
   "source": [
    "n,p=15, 1/3\n",
    "#--ks--\n",
    "stat_ks, p_value_ks = kstest(data_bin, 'binom', args=(n, p))\n",
    "print(\"P-value du test KS :\", p_value_ks)\n",
    "if p_value_ks >= 0.05:\n",
    "    print(\"Les données suivent une distribution binomiale (KS Test)\")\n",
    "else: \n",
    "    print(\"Les données ne suivent pas une distribution binomiale (KS Test)\")\n",
    "\n",
    "#--chi2--\n",
    "observed, _ = np.histogram(data_bin, bins=range(n + 2)) #pour compter les occurences\n",
    "\n",
    "expected = size_of_array * np.array([binom.pmf(k, n, p) for k in range(n + 1)])\n",
    "\n",
    "stat_chi2, p_value_chi2 = chisquare(f_obs=observed, f_exp=expected)\n",
    "print(\"P-value du test Chi-2 :\", p_value_chi2)\n",
    "if p_value_chi2 >= 0.05:\n",
    "    print(\"Les données suivent une distribution binomiale (Chi-2 Test)\")\n",
    "else: \n",
    "    print(\"Les données ne suivent pas une distribution binomiale (Chi-2 Test)\")\n"
   ]
  },
  {
   "cell_type": "markdown",
   "id": "537dd6da",
   "metadata": {},
   "source": [
    "### **Comparaison de Groupes**\n",
    "\n",
    "Pour comparer les groupes et évaluer s'ils présentent des différences significatives, nous appliquons des tests statistiques adaptés. Ces tests permettent de comparer les moyennes, les distributions ou d'autres métriques entre plusieurs groupes.  \n",
    "\n",
    "#### **Hypothèses :**\n",
    "- $H_0$ : Les groupes sont identiques selon la métrique étudiée.  \n",
    "- $H_1$ : Les groupes présentent des différences significatives.\n",
    " \n",
    "1. **Test t de Student** : Comparaison des moyennes pour deux groupes. \n",
    "En cas de petit échantillon ou de non-respect des hypothèses, des alternatives comme le test de Welch (ou Aspin-Welch) sont recommandées.\n",
    "2. **Test de Mann-Whitney U** : Comparaison non paramétrique pour deux groupes.   \n",
    "\n",
    "\n",
    "#### **Interprétation des résultats :**\n",
    "- $p < 0.05$ : Nous rejetons $H_0$.  \n",
    "- $p \\geq 0.05$ : Nous ne rejetons pas $H_0$.\n",
    "\n"
   ]
  },
  {
   "cell_type": "code",
   "execution_count": 8,
   "id": "5d9f7ba8",
   "metadata": {},
   "outputs": [
    {
     "name": "stdout",
     "output_type": "stream",
     "text": [
      "=== Test t pour une moyenne spécifique ===\n",
      "Statistique t : -0.4906\n",
      "Valeur p : 0.6248\n",
      "La moyenne des données correspond à la valeur théorique attribuée (5).\n",
      " \n",
      "=== Test de Mann-Whitney ===\n",
      "Statistique U : 4789.0000\n",
      "Valeur p : 0.6064\n",
      "Il n'y a pas de différence significative entre les données normal et binomiale.\n"
     ]
    }
   ],
   "source": [
    "print(\"=== Test t pour une moyenne spécifique ===\")\n",
    "t_stat, p_value = ttest_1samp(data_norm, 5)\n",
    "print(f\"Statistique t : {t_stat:.4f}\")\n",
    "print(f\"Valeur p : {p_value:.4f}\")\n",
    "if p_value >= 0.05:\n",
    "    print(\"La moyenne des données correspond à la valeur théorique attribuée (5).\")\n",
    "else:\n",
    "    print(\"La moyenne des données ne correspond pas à la valeur théorique attribuée (5).\")\n",
    "print(\" \")\n",
    "\n",
    "print(\"=== Test de Mann-Whitney ===\")\n",
    "stat, p_value = mannwhitneyu(data_norm, data_bin, alternative='two-sided')\n",
    "print(f\"Statistique U : {stat:.4f}\")\n",
    "print(f\"Valeur p : {p_value:.4f}\")\n",
    "if p_value < 0.05:\n",
    "    print(\"Il y a une différence significative entre les données normal et binomiale..\")\n",
    "else:\n",
    "    print(\"Il n'y a pas de différence significative entre les données normal et binomiale.\")"
   ]
  },
  {
   "cell_type": "markdown",
   "id": "94261ce2",
   "metadata": {},
   "source": [
    "### Comparaison de Groupes : ANOVA, Friedman, Kruskal-Wallis et Wilcoxon\n",
    "\n",
    "Dans cette section, nous explorons quatre méthodes de comparaison de groupes : **ANOVA**, **Friedman**, **Kruskal-Wallis**, et **Wilcoxon**. Ces tests sont utilisés selon les types de données et les hypothèses associées.\n",
    "\n",
    "---\n",
    "\n",
    "#### 1. ANOVA (Analyse de la Variance)\n",
    "\n",
    "**Objectif** : Comparer les moyennes de plusieurs groupes (> 2) pour déterminer si au moins une moyenne est significativement différente des autres.\n",
    "\n",
    "**Hypothèses** :\n",
    "- **$H_0$** : Toutes les moyennes des groupes sont égales.\n",
    "- **$H_1$** : Au moins une moyenne est différente.\n",
    "\n",
    "**Conditions d'application** :\n",
    "1. Les données doivent suivre une loi normale dans chaque groupe.\n",
    "2. Les variances des groupes doivent être homogènes.\n",
    "3. Les échantillons doivent être indépendants.\n",
    "\n",
    "**Exemple d'utilisation** : Comparer les scores moyens d’étudiants ayant suivi trois méthodes d’enseignement différentes.\n",
    "\n",
    "---\n",
    "\n",
    "#### 2. Test de Friedman\n",
    "\n",
    "**Objectif** : Comparer les médianes de plusieurs groupes appariés (> 2) pour déterminer s’il existe des différences significatives.\n",
    "\n",
    "**Hypothèses** :\n",
    "- **$H_0$** : Les distributions des groupes sont identiques.\n",
    "- **$H_1$** : Au moins un groupe a une distribution différente.\n",
    "\n",
    "**Conditions d'application** :\n",
    "1. Les données doivent être ordinales ou continues.\n",
    "2. Les groupes doivent être appariés (par exemple, mesures répétées sur les mêmes sujets).\n",
    "3. Pas besoin de normalité ni d’homogénéité des variances.\n",
    "\n",
    "**Exemple d'utilisation** : Comparer les temps de réaction de participants à trois moments différents (matin, midi, soir).\n",
    "\n",
    "---\n",
    "\n",
    "#### 3. Test de Kruskal-Wallis\n",
    "\n",
    "**Objectif** : Comparer les distributions (ou médianes) de plusieurs groupes indépendants (> 2).\n",
    "\n",
    "**Hypothèses** :\n",
    "- **$H_0$** : Les distributions des groupes sont identiques.\n",
    "- **$H_1$** : Au moins un groupe a une distribution différente.\n",
    "\n",
    "**Conditions d'application** :\n",
    "1. Les données doivent être ordinales ou continues.\n",
    "2. Les groupes doivent être indépendants.\n",
    "3. Pas besoin de normalité ni d’homogénéité des variances.\n",
    "\n",
    "**Exemple d'utilisation** : Comparer les scores de satisfaction de clients entre trois magasins différents.\n",
    "\n",
    "---\n",
    "\n",
    "#### 4. Test de Wilcoxon (rangs signés)\n",
    "\n",
    "**Objectif** : Comparer les distributions ou médianes de deux groupes appariés.\n",
    "\n",
    "**Hypothèses** :\n",
    "- **$H_0$** : Les médianes des différences entre les paires sont égales à 0.\n",
    "- **$H_1$** : Les médianes des différences entre les paires sont différentes de 0.\n",
    "\n",
    "**Conditions d'application** :\n",
    "1. Les données doivent être ordinales ou continues.\n",
    "2. Les groupes doivent être appariés.\n",
    "3. Pas besoin de normalité.\n",
    "\n",
    "**Exemple d'utilisation** : Comparer le poids des patients avant et après un traitement.\n",
    "\n",
    "---\n",
    "\n",
    "#### 5. Tableau comparatif des tests\n",
    "\n",
    "| Test               | Type de données     | Groupes indépendants ? | Appariés ? | Normalité requise ? | Compare quoi ?       |\n",
    "|---------------------|---------------------|-------------------------|------------|---------------------|----------------------|\n",
    "| ANOVA              | Continues          | Oui                     | Non        | Oui                 | Moyennes            |\n",
    "| Friedman           | Ordinales/Continues| Non                     | Oui        | Non                 | Médianes            |\n",
    "| Kruskal-Wallis     | Ordinales/Continues| Oui                     | Non        | Non                 | Médianes            |\n",
    "| Wilcoxon           | Ordinales/Continues| Non                     | Oui        | Non                 | Médianes ou distrib. |\n",
    "\n"
   ]
  },
  {
   "cell_type": "markdown",
   "id": "c330b000",
   "metadata": {},
   "source": [
    "# Évaluation de l'impact de la taille des échantillons sur les tests d'adéquation\n",
    "\n",
    "Cette analyse vise à évaluer l'impact de la taille des échantillons sur les tests d'adéquation à une loi pour :\n",
    "\n",
    "- **Normale**\n",
    "- **Binomiale**\n",
    "\n",
    "L'évaluation sera réalisée sur **100 itérations** pour chaque loi et chaque taille d'échantillon.\n"
   ]
  },
  {
   "cell_type": "code",
   "execution_count": 9,
   "id": "a0c536bf",
   "metadata": {},
   "outputs": [
    {
     "data": {
      "application/vnd.plotly.v1+json": {
       "config": {
        "plotlyServerURL": "https://plot.ly"
       },
       "data": [
        {
         "mode": "markers",
         "name": "Shapiro-Wilk",
         "type": "scatter",
         "x": [
          5,
          15,
          25,
          35,
          45,
          55,
          65,
          75,
          85,
          95,
          105,
          115,
          125,
          135,
          145,
          155,
          165,
          175,
          185,
          195,
          205,
          215,
          225,
          235,
          245,
          255,
          265,
          275,
          285,
          295,
          305,
          315,
          325,
          335,
          345,
          355,
          365,
          375,
          385,
          395,
          405,
          415,
          425,
          435,
          445,
          455,
          465,
          475,
          485,
          495,
          505,
          515,
          525,
          535,
          545,
          555,
          565,
          575,
          585,
          595,
          605,
          615,
          625,
          635,
          645,
          655,
          665,
          675,
          685,
          695,
          705,
          715,
          725,
          735,
          745,
          755,
          765,
          775,
          785,
          795,
          805,
          815,
          825,
          835,
          845,
          855,
          865,
          875,
          885,
          895,
          905,
          915,
          925,
          935,
          945,
          955,
          965,
          975,
          985,
          995
         ],
         "xaxis": "x",
         "y": [
          0.6998380422592163,
          0.6303035020828247,
          0.13840016722679138,
          0.7070391774177551,
          0.007869115099310875,
          0.10690228641033173,
          0.6986297965049744,
          0.6172681450843811,
          0.6052209734916687,
          0.7654189467430115,
          0.5333901643753052,
          0.7107554078102112,
          0.5742164254188538,
          0.40789008140563965,
          0.24317680299282074,
          0.6934928297996521,
          0.43486207723617554,
          0.6235074400901794,
          0.1335294544696808,
          0.9220319986343384,
          0.9268154501914978,
          0.3962650001049042,
          0.894607663154602,
          0.0388450063765049,
          0.1961154043674469,
          0.9379841089248657,
          0.30717790126800537,
          0.583737850189209,
          0.7767117023468018,
          0.41430991888046265,
          0.8495332598686218,
          0.36740708351135254,
          0.8258140087127686,
          0.39101654291152954,
          0.35620808601379395,
          0.7959271669387817,
          0.07834945619106293,
          0.9535426497459412,
          0.30831822752952576,
          0.283304363489151,
          0.18947747349739075,
          0.05134294927120209,
          0.01809033751487732,
          0.047404780983924866,
          0.6589950919151306,
          0.000838745734654367,
          0.7857744693756104,
          0.6054087281227112,
          0.1759052872657776,
          0.25310319662094116,
          0.6106657385826111,
          0.9199472665786743,
          0.3528677821159363,
          0.6878182888031006,
          0.4818677604198456,
          0.45924824476242065,
          0.45599979162216187,
          0.04750664159655571,
          0.12225572764873505,
          0.39172783493995667,
          0.05323448032140732,
          0.08905473351478577,
          0.9160103797912598,
          0.056487198919057846,
          0.7008605599403381,
          0.9670108556747437,
          0.7469872236251831,
          0.9697451591491699,
          0.1519649624824524,
          0.1534888744354248,
          0.14060258865356445,
          0.28572016954421997,
          0.306324303150177,
          0.11678969115018845,
          0.06129962205886841,
          0.45276570320129395,
          0.33087676763534546,
          0.9130023717880249,
          0.9373247027397156,
          0.529472291469574,
          0.8371691107749939,
          0.054309092462062836,
          0.9415234327316284,
          0.7295767068862915,
          0.9170184135437012,
          0.22663013637065887,
          0.07111316174268723,
          0.7424634099006653,
          0.9105564951896667,
          0.39377832412719727,
          0.9234293103218079,
          0.9296746253967285,
          0.5022929906845093,
          0.9572117328643799,
          0.8075542449951172,
          0.07587819546461105,
          0.8010386228561401,
          0.688080906867981,
          0.04565770924091339,
          0.46041035652160645
         ],
         "yaxis": "y"
        },
        {
         "mode": "markers",
         "name": "Kolmogorov-Smirnov",
         "type": "scatter",
         "x": [
          5,
          15,
          25,
          35,
          45,
          55,
          65,
          75,
          85,
          95,
          105,
          115,
          125,
          135,
          145,
          155,
          165,
          175,
          185,
          195,
          205,
          215,
          225,
          235,
          245,
          255,
          265,
          275,
          285,
          295,
          305,
          315,
          325,
          335,
          345,
          355,
          365,
          375,
          385,
          395,
          405,
          415,
          425,
          435,
          445,
          455,
          465,
          475,
          485,
          495,
          505,
          515,
          525,
          535,
          545,
          555,
          565,
          575,
          585,
          595,
          605,
          615,
          625,
          635,
          645,
          655,
          665,
          675,
          685,
          695,
          705,
          715,
          725,
          735,
          745,
          755,
          765,
          775,
          785,
          795,
          805,
          815,
          825,
          835,
          845,
          855,
          865,
          875,
          885,
          895,
          905,
          915,
          925,
          935,
          945,
          955,
          965,
          975,
          985,
          995
         ],
         "xaxis": "x2",
         "y": [
          0.8282788913236941,
          0.7494079466456356,
          0.5507605625826605,
          0.12870176585707693,
          0.08226156497483494,
          0.08191866166029016,
          0.15472437786810722,
          0.34607308457032604,
          0.9973220376826445,
          0.018901669284793754,
          0.11484074913979725,
          0.06560078049515994,
          0.7565824419751004,
          0.47680385313641394,
          0.74343220588306,
          0.9451109448119104,
          0.5822880424957109,
          0.4045880874304424,
          0.06531899932367446,
          0.6621065808132803,
          0.5028601912693992,
          0.09418446323711993,
          0.29661364393099887,
          0.4489232761080393,
          0.5166346514502889,
          0.8640299259067576,
          0.11234939649453135,
          0.04307010493301877,
          0.5336924654544685,
          0.16142568030224047,
          0.32402503619079703,
          0.33547268302182276,
          0.6286220776601549,
          0.307348257000981,
          0.025080411764790367,
          0.10449311882931978,
          0.33385398512979614,
          0.8412237676459497,
          0.6204390808595273,
          0.5735675423302686,
          0.002099025511272096,
          0.46441058494693577,
          0.6410475280023619,
          0.33625392338810645,
          0.674148671311972,
          0.09349299137545419,
          0.7908254318391716,
          0.34526716260394963,
          0.07629085488986109,
          0.4953729354115357,
          0.24850662044177074,
          0.8835424206175654,
          0.8632855234945207,
          0.12844314875707408,
          0.038071413866933246,
          0.4661218719741157,
          0.5826273358409273,
          0.535682218442061,
          0.3011885273876592,
          0.36313928687203423,
          0.05626717820139271,
          0.601109679058211,
          0.6801068264577186,
          0.4717127719595987,
          0.5645096405022939,
          0.9197401262415097,
          0.1543631839359605,
          0.49068906152324554,
          0.1677617682032575,
          0.8482388452229984,
          0.2970599885409402,
          0.27108423136950965,
          0.8944587038442979,
          0.2839718710089021,
          0.19552898418348508,
          0.3502644591650441,
          0.5904761344313012,
          0.24070171093323156,
          0.13988754830239924,
          0.9798972233746119,
          0.2572695628060382,
          0.43065925642720015,
          0.08167169080982262,
          0.6280655582114203,
          0.4729171737037424,
          0.9057083857685674,
          0.08188407125220787,
          0.5853573701581092,
          0.40973477724741647,
          0.30873218205823727,
          0.0032667284688659647,
          0.4467992887811836,
          0.9962101329312163,
          0.8360088324866907,
          0.19338893430654003,
          0.294575105152482,
          0.14173572674610235,
          0.43300949828454205,
          0.20452351585312423,
          0.19546297691332515
         ],
         "yaxis": "y2"
        },
        {
         "mode": "markers",
         "name": "Lilliefors",
         "type": "scatter",
         "x": [
          5,
          15,
          25,
          35,
          45,
          55,
          65,
          75,
          85,
          95,
          105,
          115,
          125,
          135,
          145,
          155,
          165,
          175,
          185,
          195,
          205,
          215,
          225,
          235,
          245,
          255,
          265,
          275,
          285,
          295,
          305,
          315,
          325,
          335,
          345,
          355,
          365,
          375,
          385,
          395,
          405,
          415,
          425,
          435,
          445,
          455,
          465,
          475,
          485,
          495,
          505,
          515,
          525,
          535,
          545,
          555,
          565,
          575,
          585,
          595,
          605,
          615,
          625,
          635,
          645,
          655,
          665,
          675,
          685,
          695,
          705,
          715,
          725,
          735,
          745,
          755,
          765,
          775,
          785,
          795,
          805,
          815,
          825,
          835,
          845,
          855,
          865,
          875,
          885,
          895,
          905,
          915,
          925,
          935,
          945,
          955,
          965,
          975,
          985,
          995
         ],
         "xaxis": "x3",
         "y": [
          0.41380238845374845,
          0.6960955697635367,
          0.27882095119801176,
          0.664472170651492,
          0.13227843909177436,
          0.2939425788722291,
          0.2727452395863593,
          0.6931526695780112,
          0.9549222624319932,
          0.46549037342308996,
          0.18983241154580266,
          0.4450145063909705,
          0.5863199783750966,
          0.6524612531799934,
          0.41975893824911215,
          0.656424247294933,
          0.3224836271634859,
          0.316899319573629,
          0.03815539538917614,
          0.908530939210872,
          0.9417270920770432,
          0.29978623182250463,
          0.3880480680922577,
          0.046318950754905136,
          0.16711111481357097,
          0.8068087113050502,
          0.3685655854679633,
          0.2489728258902313,
          0.8887887780221166,
          0.6615653298270605,
          0.502573315645868,
          0.4817701016505905,
          0.8497069217037981,
          0.6545347027125893,
          0.37839199640423965,
          0.6244135742258712,
          0.04741558293919237,
          0.9425382041517627,
          0.20857034938127272,
          0.6532999712388067,
          0.023671483844655616,
          0.2168328052175561,
          0.9152202112816799,
          0.052138458086048466,
          0.5350903932384938,
          0.015554693477317685,
          0.7036466863347037,
          0.24074049314447082,
          0.3643792406895858,
          0.23628427271254002,
          0.05976670034768668,
          0.6792270297456516,
          0.9714441952919437,
          0.7737780290033156,
          0.7380739990013975,
          0.636892885063722,
          0.21365513146905465,
          0.19903487498980882,
          0.17422575223810988,
          0.11061204390947063,
          0.09473598042810487,
          0.5617320974001073,
          0.8398893304907389,
          0.115403865279562,
          0.4466073292074919,
          0.9330919867904245,
          0.7900400930557615,
          0.8834028758757285,
          0.19928660828779507,
          0.24257966682745452,
          0.5444150280027308,
          0.8986113971676696,
          0.7933634543500115,
          0.5685752722787044,
          0.19252272392018052,
          0.18939211799911182,
          0.537225108093611,
          0.7932558481156599,
          0.8224769571601647,
          0.9897465688715689,
          0.676307460723037,
          0.19145677460660251,
          0.9360322698965655,
          0.8266227101429936,
          0.4575825487866823,
          0.4933489887579319,
          0.16679369579612893,
          0.8239005933695228,
          0.8399621432387934,
          0.4309637296249172,
          0.3367983320805663,
          0.7845007140432765,
          0.8719285127222626,
          0.9855078312614813,
          0.2393633781911434,
          0.21948204440995253,
          0.7629423614249302,
          0.7807613444583443,
          0.6031393408776815,
          0.3347138184220933
         ],
         "yaxis": "y3"
        }
       ],
       "layout": {
        "annotations": [
         {
          "font": {
           "size": 16
          },
          "showarrow": false,
          "text": "Shapiro-Wilk",
          "x": 0.5,
          "xanchor": "center",
          "xref": "paper",
          "y": 1,
          "yanchor": "bottom",
          "yref": "paper"
         },
         {
          "font": {
           "size": 16
          },
          "showarrow": false,
          "text": "Kolmogorov-Smirnov",
          "x": 0.5,
          "xanchor": "center",
          "xref": "paper",
          "y": 0.6333333333333333,
          "yanchor": "bottom",
          "yref": "paper"
         },
         {
          "font": {
           "size": 16
          },
          "showarrow": false,
          "text": "Lilliefors",
          "x": 0.5,
          "xanchor": "center",
          "xref": "paper",
          "y": 0.26666666666666666,
          "yanchor": "bottom",
          "yref": "paper"
         }
        ],
        "height": 800,
        "shapes": [
         {
          "line": {
           "color": "red",
           "dash": "dash"
          },
          "type": "line",
          "x0": 0,
          "x1": 1,
          "xref": "x domain",
          "y0": 0.05,
          "y1": 0.05,
          "yref": "y"
         },
         {
          "line": {
           "color": "red",
           "dash": "dash"
          },
          "type": "line",
          "x0": 0,
          "x1": 1,
          "xref": "x2 domain",
          "y0": 0.05,
          "y1": 0.05,
          "yref": "y2"
         },
         {
          "line": {
           "color": "red",
           "dash": "dash"
          },
          "type": "line",
          "x0": 0,
          "x1": 1,
          "xref": "x3 domain",
          "y0": 0.05,
          "y1": 0.05,
          "yref": "y3"
         }
        ],
        "template": {
         "data": {
          "bar": [
           {
            "error_x": {
             "color": "#2a3f5f"
            },
            "error_y": {
             "color": "#2a3f5f"
            },
            "marker": {
             "line": {
              "color": "white",
              "width": 0.5
             },
             "pattern": {
              "fillmode": "overlay",
              "size": 10,
              "solidity": 0.2
             }
            },
            "type": "bar"
           }
          ],
          "barpolar": [
           {
            "marker": {
             "line": {
              "color": "white",
              "width": 0.5
             },
             "pattern": {
              "fillmode": "overlay",
              "size": 10,
              "solidity": 0.2
             }
            },
            "type": "barpolar"
           }
          ],
          "carpet": [
           {
            "aaxis": {
             "endlinecolor": "#2a3f5f",
             "gridcolor": "#C8D4E3",
             "linecolor": "#C8D4E3",
             "minorgridcolor": "#C8D4E3",
             "startlinecolor": "#2a3f5f"
            },
            "baxis": {
             "endlinecolor": "#2a3f5f",
             "gridcolor": "#C8D4E3",
             "linecolor": "#C8D4E3",
             "minorgridcolor": "#C8D4E3",
             "startlinecolor": "#2a3f5f"
            },
            "type": "carpet"
           }
          ],
          "choropleth": [
           {
            "colorbar": {
             "outlinewidth": 0,
             "ticks": ""
            },
            "type": "choropleth"
           }
          ],
          "contour": [
           {
            "colorbar": {
             "outlinewidth": 0,
             "ticks": ""
            },
            "colorscale": [
             [
              0,
              "#0d0887"
             ],
             [
              0.1111111111111111,
              "#46039f"
             ],
             [
              0.2222222222222222,
              "#7201a8"
             ],
             [
              0.3333333333333333,
              "#9c179e"
             ],
             [
              0.4444444444444444,
              "#bd3786"
             ],
             [
              0.5555555555555556,
              "#d8576b"
             ],
             [
              0.6666666666666666,
              "#ed7953"
             ],
             [
              0.7777777777777778,
              "#fb9f3a"
             ],
             [
              0.8888888888888888,
              "#fdca26"
             ],
             [
              1,
              "#f0f921"
             ]
            ],
            "type": "contour"
           }
          ],
          "contourcarpet": [
           {
            "colorbar": {
             "outlinewidth": 0,
             "ticks": ""
            },
            "type": "contourcarpet"
           }
          ],
          "heatmap": [
           {
            "colorbar": {
             "outlinewidth": 0,
             "ticks": ""
            },
            "colorscale": [
             [
              0,
              "#0d0887"
             ],
             [
              0.1111111111111111,
              "#46039f"
             ],
             [
              0.2222222222222222,
              "#7201a8"
             ],
             [
              0.3333333333333333,
              "#9c179e"
             ],
             [
              0.4444444444444444,
              "#bd3786"
             ],
             [
              0.5555555555555556,
              "#d8576b"
             ],
             [
              0.6666666666666666,
              "#ed7953"
             ],
             [
              0.7777777777777778,
              "#fb9f3a"
             ],
             [
              0.8888888888888888,
              "#fdca26"
             ],
             [
              1,
              "#f0f921"
             ]
            ],
            "type": "heatmap"
           }
          ],
          "heatmapgl": [
           {
            "colorbar": {
             "outlinewidth": 0,
             "ticks": ""
            },
            "colorscale": [
             [
              0,
              "#0d0887"
             ],
             [
              0.1111111111111111,
              "#46039f"
             ],
             [
              0.2222222222222222,
              "#7201a8"
             ],
             [
              0.3333333333333333,
              "#9c179e"
             ],
             [
              0.4444444444444444,
              "#bd3786"
             ],
             [
              0.5555555555555556,
              "#d8576b"
             ],
             [
              0.6666666666666666,
              "#ed7953"
             ],
             [
              0.7777777777777778,
              "#fb9f3a"
             ],
             [
              0.8888888888888888,
              "#fdca26"
             ],
             [
              1,
              "#f0f921"
             ]
            ],
            "type": "heatmapgl"
           }
          ],
          "histogram": [
           {
            "marker": {
             "pattern": {
              "fillmode": "overlay",
              "size": 10,
              "solidity": 0.2
             }
            },
            "type": "histogram"
           }
          ],
          "histogram2d": [
           {
            "colorbar": {
             "outlinewidth": 0,
             "ticks": ""
            },
            "colorscale": [
             [
              0,
              "#0d0887"
             ],
             [
              0.1111111111111111,
              "#46039f"
             ],
             [
              0.2222222222222222,
              "#7201a8"
             ],
             [
              0.3333333333333333,
              "#9c179e"
             ],
             [
              0.4444444444444444,
              "#bd3786"
             ],
             [
              0.5555555555555556,
              "#d8576b"
             ],
             [
              0.6666666666666666,
              "#ed7953"
             ],
             [
              0.7777777777777778,
              "#fb9f3a"
             ],
             [
              0.8888888888888888,
              "#fdca26"
             ],
             [
              1,
              "#f0f921"
             ]
            ],
            "type": "histogram2d"
           }
          ],
          "histogram2dcontour": [
           {
            "colorbar": {
             "outlinewidth": 0,
             "ticks": ""
            },
            "colorscale": [
             [
              0,
              "#0d0887"
             ],
             [
              0.1111111111111111,
              "#46039f"
             ],
             [
              0.2222222222222222,
              "#7201a8"
             ],
             [
              0.3333333333333333,
              "#9c179e"
             ],
             [
              0.4444444444444444,
              "#bd3786"
             ],
             [
              0.5555555555555556,
              "#d8576b"
             ],
             [
              0.6666666666666666,
              "#ed7953"
             ],
             [
              0.7777777777777778,
              "#fb9f3a"
             ],
             [
              0.8888888888888888,
              "#fdca26"
             ],
             [
              1,
              "#f0f921"
             ]
            ],
            "type": "histogram2dcontour"
           }
          ],
          "mesh3d": [
           {
            "colorbar": {
             "outlinewidth": 0,
             "ticks": ""
            },
            "type": "mesh3d"
           }
          ],
          "parcoords": [
           {
            "line": {
             "colorbar": {
              "outlinewidth": 0,
              "ticks": ""
             }
            },
            "type": "parcoords"
           }
          ],
          "pie": [
           {
            "automargin": true,
            "type": "pie"
           }
          ],
          "scatter": [
           {
            "fillpattern": {
             "fillmode": "overlay",
             "size": 10,
             "solidity": 0.2
            },
            "type": "scatter"
           }
          ],
          "scatter3d": [
           {
            "line": {
             "colorbar": {
              "outlinewidth": 0,
              "ticks": ""
             }
            },
            "marker": {
             "colorbar": {
              "outlinewidth": 0,
              "ticks": ""
             }
            },
            "type": "scatter3d"
           }
          ],
          "scattercarpet": [
           {
            "marker": {
             "colorbar": {
              "outlinewidth": 0,
              "ticks": ""
             }
            },
            "type": "scattercarpet"
           }
          ],
          "scattergeo": [
           {
            "marker": {
             "colorbar": {
              "outlinewidth": 0,
              "ticks": ""
             }
            },
            "type": "scattergeo"
           }
          ],
          "scattergl": [
           {
            "marker": {
             "colorbar": {
              "outlinewidth": 0,
              "ticks": ""
             }
            },
            "type": "scattergl"
           }
          ],
          "scattermapbox": [
           {
            "marker": {
             "colorbar": {
              "outlinewidth": 0,
              "ticks": ""
             }
            },
            "type": "scattermapbox"
           }
          ],
          "scatterpolar": [
           {
            "marker": {
             "colorbar": {
              "outlinewidth": 0,
              "ticks": ""
             }
            },
            "type": "scatterpolar"
           }
          ],
          "scatterpolargl": [
           {
            "marker": {
             "colorbar": {
              "outlinewidth": 0,
              "ticks": ""
             }
            },
            "type": "scatterpolargl"
           }
          ],
          "scatterternary": [
           {
            "marker": {
             "colorbar": {
              "outlinewidth": 0,
              "ticks": ""
             }
            },
            "type": "scatterternary"
           }
          ],
          "surface": [
           {
            "colorbar": {
             "outlinewidth": 0,
             "ticks": ""
            },
            "colorscale": [
             [
              0,
              "#0d0887"
             ],
             [
              0.1111111111111111,
              "#46039f"
             ],
             [
              0.2222222222222222,
              "#7201a8"
             ],
             [
              0.3333333333333333,
              "#9c179e"
             ],
             [
              0.4444444444444444,
              "#bd3786"
             ],
             [
              0.5555555555555556,
              "#d8576b"
             ],
             [
              0.6666666666666666,
              "#ed7953"
             ],
             [
              0.7777777777777778,
              "#fb9f3a"
             ],
             [
              0.8888888888888888,
              "#fdca26"
             ],
             [
              1,
              "#f0f921"
             ]
            ],
            "type": "surface"
           }
          ],
          "table": [
           {
            "cells": {
             "fill": {
              "color": "#EBF0F8"
             },
             "line": {
              "color": "white"
             }
            },
            "header": {
             "fill": {
              "color": "#C8D4E3"
             },
             "line": {
              "color": "white"
             }
            },
            "type": "table"
           }
          ]
         },
         "layout": {
          "annotationdefaults": {
           "arrowcolor": "#2a3f5f",
           "arrowhead": 0,
           "arrowwidth": 1
          },
          "autotypenumbers": "strict",
          "coloraxis": {
           "colorbar": {
            "outlinewidth": 0,
            "ticks": ""
           }
          },
          "colorscale": {
           "diverging": [
            [
             0,
             "#8e0152"
            ],
            [
             0.1,
             "#c51b7d"
            ],
            [
             0.2,
             "#de77ae"
            ],
            [
             0.3,
             "#f1b6da"
            ],
            [
             0.4,
             "#fde0ef"
            ],
            [
             0.5,
             "#f7f7f7"
            ],
            [
             0.6,
             "#e6f5d0"
            ],
            [
             0.7,
             "#b8e186"
            ],
            [
             0.8,
             "#7fbc41"
            ],
            [
             0.9,
             "#4d9221"
            ],
            [
             1,
             "#276419"
            ]
           ],
           "sequential": [
            [
             0,
             "#0d0887"
            ],
            [
             0.1111111111111111,
             "#46039f"
            ],
            [
             0.2222222222222222,
             "#7201a8"
            ],
            [
             0.3333333333333333,
             "#9c179e"
            ],
            [
             0.4444444444444444,
             "#bd3786"
            ],
            [
             0.5555555555555556,
             "#d8576b"
            ],
            [
             0.6666666666666666,
             "#ed7953"
            ],
            [
             0.7777777777777778,
             "#fb9f3a"
            ],
            [
             0.8888888888888888,
             "#fdca26"
            ],
            [
             1,
             "#f0f921"
            ]
           ],
           "sequentialminus": [
            [
             0,
             "#0d0887"
            ],
            [
             0.1111111111111111,
             "#46039f"
            ],
            [
             0.2222222222222222,
             "#7201a8"
            ],
            [
             0.3333333333333333,
             "#9c179e"
            ],
            [
             0.4444444444444444,
             "#bd3786"
            ],
            [
             0.5555555555555556,
             "#d8576b"
            ],
            [
             0.6666666666666666,
             "#ed7953"
            ],
            [
             0.7777777777777778,
             "#fb9f3a"
            ],
            [
             0.8888888888888888,
             "#fdca26"
            ],
            [
             1,
             "#f0f921"
            ]
           ]
          },
          "colorway": [
           "#636efa",
           "#EF553B",
           "#00cc96",
           "#ab63fa",
           "#FFA15A",
           "#19d3f3",
           "#FF6692",
           "#B6E880",
           "#FF97FF",
           "#FECB52"
          ],
          "font": {
           "color": "#2a3f5f"
          },
          "geo": {
           "bgcolor": "white",
           "lakecolor": "white",
           "landcolor": "white",
           "showlakes": true,
           "showland": true,
           "subunitcolor": "#C8D4E3"
          },
          "hoverlabel": {
           "align": "left"
          },
          "hovermode": "closest",
          "mapbox": {
           "style": "light"
          },
          "paper_bgcolor": "white",
          "plot_bgcolor": "white",
          "polar": {
           "angularaxis": {
            "gridcolor": "#EBF0F8",
            "linecolor": "#EBF0F8",
            "ticks": ""
           },
           "bgcolor": "white",
           "radialaxis": {
            "gridcolor": "#EBF0F8",
            "linecolor": "#EBF0F8",
            "ticks": ""
           }
          },
          "scene": {
           "xaxis": {
            "backgroundcolor": "white",
            "gridcolor": "#DFE8F3",
            "gridwidth": 2,
            "linecolor": "#EBF0F8",
            "showbackground": true,
            "ticks": "",
            "zerolinecolor": "#EBF0F8"
           },
           "yaxis": {
            "backgroundcolor": "white",
            "gridcolor": "#DFE8F3",
            "gridwidth": 2,
            "linecolor": "#EBF0F8",
            "showbackground": true,
            "ticks": "",
            "zerolinecolor": "#EBF0F8"
           },
           "zaxis": {
            "backgroundcolor": "white",
            "gridcolor": "#DFE8F3",
            "gridwidth": 2,
            "linecolor": "#EBF0F8",
            "showbackground": true,
            "ticks": "",
            "zerolinecolor": "#EBF0F8"
           }
          },
          "shapedefaults": {
           "line": {
            "color": "#2a3f5f"
           }
          },
          "ternary": {
           "aaxis": {
            "gridcolor": "#DFE8F3",
            "linecolor": "#A2B1C6",
            "ticks": ""
           },
           "baxis": {
            "gridcolor": "#DFE8F3",
            "linecolor": "#A2B1C6",
            "ticks": ""
           },
           "bgcolor": "white",
           "caxis": {
            "gridcolor": "#DFE8F3",
            "linecolor": "#A2B1C6",
            "ticks": ""
           }
          },
          "title": {
           "x": 0.05
          },
          "xaxis": {
           "automargin": true,
           "gridcolor": "#EBF0F8",
           "linecolor": "#EBF0F8",
           "ticks": "",
           "title": {
            "standoff": 15
           },
           "zerolinecolor": "#EBF0F8",
           "zerolinewidth": 2
          },
          "yaxis": {
           "automargin": true,
           "gridcolor": "#EBF0F8",
           "linecolor": "#EBF0F8",
           "ticks": "",
           "title": {
            "standoff": 15
           },
           "zerolinecolor": "#EBF0F8",
           "zerolinewidth": 2
          }
         }
        },
        "title": {
         "text": "P-values des tests de normalité"
        },
        "xaxis": {
         "anchor": "y",
         "domain": [
          0,
          1
         ],
         "matches": "x3",
         "showticklabels": false,
         "title": {
          "text": "Taille de l'échantillon généré"
         }
        },
        "xaxis2": {
         "anchor": "y2",
         "domain": [
          0,
          1
         ],
         "matches": "x3",
         "showticklabels": false
        },
        "xaxis3": {
         "anchor": "y3",
         "domain": [
          0,
          1
         ]
        },
        "yaxis": {
         "anchor": "x",
         "domain": [
          0.7333333333333334,
          1
         ],
         "title": {
          "text": "P-value"
         }
        },
        "yaxis2": {
         "anchor": "x2",
         "domain": [
          0.3666666666666667,
          0.6333333333333333
         ]
        },
        "yaxis3": {
         "anchor": "x3",
         "domain": [
          0,
          0.26666666666666666
         ]
        }
       }
      }
     },
     "metadata": {},
     "output_type": "display_data"
    }
   ],
   "source": [
    "p_values_shapiro, p_values_ks, p_values_lillie = [], [], []\n",
    "nu, sigma = 0, 1\n",
    "\n",
    "sample_sizes = range(5, 1005, 10) #100 itérations\n",
    "for size in sample_sizes:\n",
    "    data = np.random.normal(nu, sigma, size)\n",
    "\n",
    "    p_values_shapiro.append(shapiro(data)[1])\n",
    "    p_values_ks.append(kstest(data, 'norm', args=(nu, sigma))[1])\n",
    "    p_values_lillie.append(lilliefors(data)[1])\n",
    "\n",
    "\n",
    "fig = make_subplots(rows=3, cols=1, shared_xaxes=True, vertical_spacing=0.1,\n",
    "                    subplot_titles=[\"Shapiro-Wilk\", \"Kolmogorov-Smirnov\", \"Lilliefors\"])\n",
    "\n",
    "\n",
    "tests = [(\"Shapiro-Wilk\", p_values_shapiro), \n",
    "         (\"Kolmogorov-Smirnov\", p_values_ks), \n",
    "         (\"Lilliefors\", p_values_lillie)]\n",
    "\n",
    "for i, (name, p_values) in enumerate(tests, start=1):\n",
    "    fig.add_trace(\n",
    "        go.Scatter(x=list(sample_sizes), y=p_values, mode='markers', name=name),\n",
    "        row=i, col=1\n",
    "    )\n",
    "    fig.add_hline(y=0.05, line_dash=\"dash\", line_color=\"red\", row=i, col=1)\n",
    "\n",
    "\n",
    "fig.update_layout(title=\"P-values des tests de normalité\", \n",
    "                  xaxis_title=\"Taille de l'échantillon généré\", \n",
    "                  yaxis_title=\"P-value\", \n",
    "                  height=800, \n",
    "                  template=\"plotly_white\")\n",
    "fig.show()"
   ]
  },
  {
   "cell_type": "markdown",
   "id": "0ab7682e",
   "metadata": {},
   "source": [
    ">En zoomant sur les tailles d'échantillons faibles, on note que Lilliefors ne fait pas d'erreur. Shapiro est également très performant sur les échantillons de petite taille, tandis que KS se trompe parfois."
   ]
  },
  {
   "cell_type": "code",
   "execution_count": 10,
   "id": "b7c1b701",
   "metadata": {},
   "outputs": [
    {
     "data": {
      "application/vnd.plotly.v1+json": {
       "config": {
        "plotlyServerURL": "https://plot.ly"
       },
       "data": [
        {
         "mode": "markers",
         "name": "KS Test",
         "type": "scatter",
         "x": [
          10,
          20,
          30,
          40,
          50,
          60,
          70,
          80,
          90,
          100,
          110,
          120,
          130,
          140,
          150,
          160,
          170,
          180,
          190,
          200,
          210,
          220,
          230,
          240,
          250,
          260,
          270,
          280,
          290,
          300,
          310,
          320,
          330,
          340,
          350,
          360,
          370,
          380,
          390,
          400,
          410,
          420,
          430,
          440,
          450,
          460,
          470,
          480,
          490,
          500,
          510,
          520,
          530,
          540,
          550,
          560,
          570,
          580,
          590,
          600,
          610,
          620,
          630,
          640,
          650,
          660,
          670,
          680,
          690,
          700,
          710,
          720,
          730,
          740,
          750,
          760,
          770,
          780,
          790,
          800,
          810,
          820,
          830,
          840,
          850,
          860,
          870,
          880,
          890,
          900,
          910,
          920,
          930,
          940,
          950,
          960,
          970,
          980,
          990,
          1000
         ],
         "xaxis": "x",
         "y": [
          0.08737257744542504,
          0.000921574202919162,
          0.2710228788279301,
          0.07516307963452729,
          0.0001430674691866458,
          0.000001107020197167273,
          0.00004955621252416299,
          5.099847710656922e-7,
          0.00009227216020206853,
          0.00013016266356242215,
          0.00004094743772159372,
          0.000024628973620433077,
          8.239318477216972e-10,
          9.336049120867058e-9,
          7.403587238330126e-8,
          7.068686559608552e-8,
          0.000005188787741858023,
          8.381884253786848e-13,
          3.993534472607324e-10,
          3.196994948032649e-9,
          1.9196064961231353e-22,
          2.2431146131037235e-11,
          6.491382971860057e-15,
          6.077182073605549e-20,
          7.067382888212436e-10,
          1.7230653757716544e-13,
          2.8290309618341586e-23,
          3.500505684757322e-11,
          1.0764949215731724e-25,
          9.143576003168023e-20,
          1.60871871601865e-16,
          1.1850549608891016e-19,
          2.918385398278184e-12,
          6.449773304890271e-22,
          3.9686425452816006e-13,
          1.2961690936004008e-16,
          7.271671535002982e-18,
          2.019316987472721e-20,
          9.816618728345296e-22,
          9.13995105404319e-19,
          1.348713737133668e-22,
          1.7975563729052028e-23,
          1.329282394623724e-27,
          1.0374819302895663e-19,
          6.407409332435883e-29,
          5.381426540366024e-27,
          1.065556294291925e-31,
          4.1216600349276217e-32,
          3.4221172143721123e-25,
          1.5135656704782454e-21,
          9.05236118231956e-23,
          8.217647463547539e-23,
          1.2060541892571665e-36,
          6.074611379256225e-27,
          3.930172466396227e-26,
          6.364906558467863e-36,
          3.681281601499419e-32,
          1.0639614226715224e-31,
          1.0839357718772697e-31,
          2.1031276054760822e-20,
          4.0274376771462156e-32,
          9.305157805374881e-35,
          2.455320561678874e-39,
          2.8344961204284947e-27,
          8.929094306648413e-39,
          9.691793656137722e-39,
          5.651210237432506e-29,
          3.7069833215675474e-35,
          3.654224403808566e-35,
          1.1093971555422421e-32,
          5.25149270274782e-50,
          9.268696725171257e-42,
          4.954937650697265e-44,
          8.036118347420589e-33,
          1.6407026704229373e-36,
          6.759790171836341e-35,
          9.769830082470417e-28,
          3.557522478624613e-36,
          8.867332355825017e-53,
          2.89995213515657e-34,
          1.599810023813689e-42,
          1.1479613391761703e-41,
          7.870724489188256e-48,
          7.498888501566443e-41,
          3.1131224512172975e-48,
          7.851254688354941e-44,
          4.824906713988338e-61,
          1.2635730881741774e-48,
          5.0580945603477665e-55,
          6.231583137285182e-50,
          1.145226767012645e-42,
          3.572236947699761e-45,
          3.185021229700043e-51,
          2.1852736043799265e-44,
          8.738657082904535e-55,
          1.6300031640702699e-57,
          1.774147454811191e-42,
          8.678312091276121e-48,
          4.450668234126784e-62,
          6.683968941713768e-65
         ],
         "yaxis": "y"
        },
        {
         "mode": "markers",
         "name": "Chi-2 Test",
         "type": "scatter",
         "x": [
          10,
          20,
          30,
          40,
          50,
          60,
          70,
          80,
          90,
          100,
          110,
          120,
          130,
          140,
          150,
          160,
          170,
          180,
          190,
          200,
          210,
          220,
          230,
          240,
          250,
          260,
          270,
          280,
          290,
          300,
          310,
          320,
          330,
          340,
          350,
          360,
          370,
          380,
          390,
          400,
          410,
          420,
          430,
          440,
          450,
          460,
          470,
          480,
          490,
          500,
          510,
          520,
          530,
          540,
          550,
          560,
          570,
          580,
          590,
          600,
          610,
          620,
          630,
          640,
          650,
          660,
          670,
          680,
          690,
          700,
          710,
          720,
          730,
          740,
          750,
          760,
          770,
          780,
          790,
          800,
          810,
          820,
          830,
          840,
          850,
          860,
          870,
          880,
          890,
          900,
          910,
          920,
          930,
          940,
          950,
          960,
          970,
          980,
          990,
          1000
         ],
         "xaxis": "x2",
         "y": [
          0.9121525357252592,
          0.7536936463442505,
          0.00008092620468554963,
          0.1593762440327749,
          0.9756608716455383,
          0.4357158970780678,
          0.028488292316800588,
          0.4218715737144491,
          0.6909551041179142,
          0.6783657035688936,
          0.9358946425116581,
          0.2994118802218589,
          0.06271676137417813,
          0.09554270575517083,
          0.9417651452435613,
          0.8969948960475113,
          0.18134107223348273,
          0.2914522408521321,
          0.3768608546764283,
          0.5040485198935942,
          0.47021635144638085,
          0.1627235467756106,
          0.9806930609087989,
          0.000008639010293397128,
          0.3360551489293046,
          0.9645911846035232,
          0.2675066474271545,
          0.5797709707693228,
          0.5093798720875677,
          0.36308168970790317,
          0.7839421586161279,
          0.7181728091189046,
          0.20027988424923515,
          0.336532174326986,
          0.7958784213088899,
          0.4584832033276326,
          0.860471093319418,
          0.6549965065447161,
          0.748239600999315,
          0.38688726395919243,
          0.14665849658321134,
          0.6536874381632994,
          0.4491053647706653,
          0.6648695599773847,
          0.7874412843079764,
          0.18444026309807324,
          0.8575849910883702,
          0.7475975597871044,
          0.5459160859732957,
          0.3563498167571583,
          0.1851700353502427,
          0.6522571553064114,
          0.089273436987338,
          0.8302510212904335,
          0.9491828993887425,
          0.46509030517634653,
          0.8504358702300833,
          0.9385399076305992,
          0.8459171019346213,
          0.048246156734035636,
          0.23942718242811104,
          0.3716252129506899,
          0.8037266607195188,
          0.7144322247891658,
          0.6027174975650005,
          0.8387000117813634,
          0.30889241925771177,
          0.0009179928742814528,
          0.9042040961930755,
          0.05770862997936312,
          0.17541513389905591,
          0.8200410617947501,
          0.5196285368249255,
          0.3572359805488527,
          0.9201142774018845,
          0.04521748202406347,
          0.4996011075249064,
          0.34926707604080254,
          0.8396306823087711,
          0.12559373582299665,
          0.6942765421002658,
          0.4307689505319274,
          0.47784590987425013,
          0.4627188721478249,
          0.7843843973585906,
          0.7070933793429679,
          0.2335707683798954,
          0.8437175763019504,
          0.7028675127251351,
          0.6220507761646048,
          0.7873333912296782,
          0.9562038955805946,
          0.09018672913546172,
          0.7296556259396946,
          0.07058355902052876,
          0.9763293880794669,
          0.44318726383297613,
          0.4431369281768298,
          0.416501161808129,
          0.32225225839976673
         ],
         "yaxis": "y2"
        }
       ],
       "layout": {
        "annotations": [
         {
          "font": {
           "size": 16
          },
          "showarrow": false,
          "text": "Kolmogorov-Smirnov",
          "x": 0.5,
          "xanchor": "center",
          "xref": "paper",
          "y": 1,
          "yanchor": "bottom",
          "yref": "paper"
         },
         {
          "font": {
           "size": 16
          },
          "showarrow": false,
          "text": "Chi-2",
          "x": 0.5,
          "xanchor": "center",
          "xref": "paper",
          "y": 0.45,
          "yanchor": "bottom",
          "yref": "paper"
         }
        ],
        "height": 600,
        "shapes": [
         {
          "line": {
           "color": "red",
           "dash": "dash"
          },
          "type": "line",
          "x0": 0,
          "x1": 1,
          "xref": "x domain",
          "y0": 0.05,
          "y1": 0.05,
          "yref": "y"
         },
         {
          "line": {
           "color": "red",
           "dash": "dash"
          },
          "type": "line",
          "x0": 0,
          "x1": 1,
          "xref": "x2 domain",
          "y0": 0.05,
          "y1": 0.05,
          "yref": "y2"
         }
        ],
        "template": {
         "data": {
          "bar": [
           {
            "error_x": {
             "color": "#2a3f5f"
            },
            "error_y": {
             "color": "#2a3f5f"
            },
            "marker": {
             "line": {
              "color": "white",
              "width": 0.5
             },
             "pattern": {
              "fillmode": "overlay",
              "size": 10,
              "solidity": 0.2
             }
            },
            "type": "bar"
           }
          ],
          "barpolar": [
           {
            "marker": {
             "line": {
              "color": "white",
              "width": 0.5
             },
             "pattern": {
              "fillmode": "overlay",
              "size": 10,
              "solidity": 0.2
             }
            },
            "type": "barpolar"
           }
          ],
          "carpet": [
           {
            "aaxis": {
             "endlinecolor": "#2a3f5f",
             "gridcolor": "#C8D4E3",
             "linecolor": "#C8D4E3",
             "minorgridcolor": "#C8D4E3",
             "startlinecolor": "#2a3f5f"
            },
            "baxis": {
             "endlinecolor": "#2a3f5f",
             "gridcolor": "#C8D4E3",
             "linecolor": "#C8D4E3",
             "minorgridcolor": "#C8D4E3",
             "startlinecolor": "#2a3f5f"
            },
            "type": "carpet"
           }
          ],
          "choropleth": [
           {
            "colorbar": {
             "outlinewidth": 0,
             "ticks": ""
            },
            "type": "choropleth"
           }
          ],
          "contour": [
           {
            "colorbar": {
             "outlinewidth": 0,
             "ticks": ""
            },
            "colorscale": [
             [
              0,
              "#0d0887"
             ],
             [
              0.1111111111111111,
              "#46039f"
             ],
             [
              0.2222222222222222,
              "#7201a8"
             ],
             [
              0.3333333333333333,
              "#9c179e"
             ],
             [
              0.4444444444444444,
              "#bd3786"
             ],
             [
              0.5555555555555556,
              "#d8576b"
             ],
             [
              0.6666666666666666,
              "#ed7953"
             ],
             [
              0.7777777777777778,
              "#fb9f3a"
             ],
             [
              0.8888888888888888,
              "#fdca26"
             ],
             [
              1,
              "#f0f921"
             ]
            ],
            "type": "contour"
           }
          ],
          "contourcarpet": [
           {
            "colorbar": {
             "outlinewidth": 0,
             "ticks": ""
            },
            "type": "contourcarpet"
           }
          ],
          "heatmap": [
           {
            "colorbar": {
             "outlinewidth": 0,
             "ticks": ""
            },
            "colorscale": [
             [
              0,
              "#0d0887"
             ],
             [
              0.1111111111111111,
              "#46039f"
             ],
             [
              0.2222222222222222,
              "#7201a8"
             ],
             [
              0.3333333333333333,
              "#9c179e"
             ],
             [
              0.4444444444444444,
              "#bd3786"
             ],
             [
              0.5555555555555556,
              "#d8576b"
             ],
             [
              0.6666666666666666,
              "#ed7953"
             ],
             [
              0.7777777777777778,
              "#fb9f3a"
             ],
             [
              0.8888888888888888,
              "#fdca26"
             ],
             [
              1,
              "#f0f921"
             ]
            ],
            "type": "heatmap"
           }
          ],
          "heatmapgl": [
           {
            "colorbar": {
             "outlinewidth": 0,
             "ticks": ""
            },
            "colorscale": [
             [
              0,
              "#0d0887"
             ],
             [
              0.1111111111111111,
              "#46039f"
             ],
             [
              0.2222222222222222,
              "#7201a8"
             ],
             [
              0.3333333333333333,
              "#9c179e"
             ],
             [
              0.4444444444444444,
              "#bd3786"
             ],
             [
              0.5555555555555556,
              "#d8576b"
             ],
             [
              0.6666666666666666,
              "#ed7953"
             ],
             [
              0.7777777777777778,
              "#fb9f3a"
             ],
             [
              0.8888888888888888,
              "#fdca26"
             ],
             [
              1,
              "#f0f921"
             ]
            ],
            "type": "heatmapgl"
           }
          ],
          "histogram": [
           {
            "marker": {
             "pattern": {
              "fillmode": "overlay",
              "size": 10,
              "solidity": 0.2
             }
            },
            "type": "histogram"
           }
          ],
          "histogram2d": [
           {
            "colorbar": {
             "outlinewidth": 0,
             "ticks": ""
            },
            "colorscale": [
             [
              0,
              "#0d0887"
             ],
             [
              0.1111111111111111,
              "#46039f"
             ],
             [
              0.2222222222222222,
              "#7201a8"
             ],
             [
              0.3333333333333333,
              "#9c179e"
             ],
             [
              0.4444444444444444,
              "#bd3786"
             ],
             [
              0.5555555555555556,
              "#d8576b"
             ],
             [
              0.6666666666666666,
              "#ed7953"
             ],
             [
              0.7777777777777778,
              "#fb9f3a"
             ],
             [
              0.8888888888888888,
              "#fdca26"
             ],
             [
              1,
              "#f0f921"
             ]
            ],
            "type": "histogram2d"
           }
          ],
          "histogram2dcontour": [
           {
            "colorbar": {
             "outlinewidth": 0,
             "ticks": ""
            },
            "colorscale": [
             [
              0,
              "#0d0887"
             ],
             [
              0.1111111111111111,
              "#46039f"
             ],
             [
              0.2222222222222222,
              "#7201a8"
             ],
             [
              0.3333333333333333,
              "#9c179e"
             ],
             [
              0.4444444444444444,
              "#bd3786"
             ],
             [
              0.5555555555555556,
              "#d8576b"
             ],
             [
              0.6666666666666666,
              "#ed7953"
             ],
             [
              0.7777777777777778,
              "#fb9f3a"
             ],
             [
              0.8888888888888888,
              "#fdca26"
             ],
             [
              1,
              "#f0f921"
             ]
            ],
            "type": "histogram2dcontour"
           }
          ],
          "mesh3d": [
           {
            "colorbar": {
             "outlinewidth": 0,
             "ticks": ""
            },
            "type": "mesh3d"
           }
          ],
          "parcoords": [
           {
            "line": {
             "colorbar": {
              "outlinewidth": 0,
              "ticks": ""
             }
            },
            "type": "parcoords"
           }
          ],
          "pie": [
           {
            "automargin": true,
            "type": "pie"
           }
          ],
          "scatter": [
           {
            "fillpattern": {
             "fillmode": "overlay",
             "size": 10,
             "solidity": 0.2
            },
            "type": "scatter"
           }
          ],
          "scatter3d": [
           {
            "line": {
             "colorbar": {
              "outlinewidth": 0,
              "ticks": ""
             }
            },
            "marker": {
             "colorbar": {
              "outlinewidth": 0,
              "ticks": ""
             }
            },
            "type": "scatter3d"
           }
          ],
          "scattercarpet": [
           {
            "marker": {
             "colorbar": {
              "outlinewidth": 0,
              "ticks": ""
             }
            },
            "type": "scattercarpet"
           }
          ],
          "scattergeo": [
           {
            "marker": {
             "colorbar": {
              "outlinewidth": 0,
              "ticks": ""
             }
            },
            "type": "scattergeo"
           }
          ],
          "scattergl": [
           {
            "marker": {
             "colorbar": {
              "outlinewidth": 0,
              "ticks": ""
             }
            },
            "type": "scattergl"
           }
          ],
          "scattermapbox": [
           {
            "marker": {
             "colorbar": {
              "outlinewidth": 0,
              "ticks": ""
             }
            },
            "type": "scattermapbox"
           }
          ],
          "scatterpolar": [
           {
            "marker": {
             "colorbar": {
              "outlinewidth": 0,
              "ticks": ""
             }
            },
            "type": "scatterpolar"
           }
          ],
          "scatterpolargl": [
           {
            "marker": {
             "colorbar": {
              "outlinewidth": 0,
              "ticks": ""
             }
            },
            "type": "scatterpolargl"
           }
          ],
          "scatterternary": [
           {
            "marker": {
             "colorbar": {
              "outlinewidth": 0,
              "ticks": ""
             }
            },
            "type": "scatterternary"
           }
          ],
          "surface": [
           {
            "colorbar": {
             "outlinewidth": 0,
             "ticks": ""
            },
            "colorscale": [
             [
              0,
              "#0d0887"
             ],
             [
              0.1111111111111111,
              "#46039f"
             ],
             [
              0.2222222222222222,
              "#7201a8"
             ],
             [
              0.3333333333333333,
              "#9c179e"
             ],
             [
              0.4444444444444444,
              "#bd3786"
             ],
             [
              0.5555555555555556,
              "#d8576b"
             ],
             [
              0.6666666666666666,
              "#ed7953"
             ],
             [
              0.7777777777777778,
              "#fb9f3a"
             ],
             [
              0.8888888888888888,
              "#fdca26"
             ],
             [
              1,
              "#f0f921"
             ]
            ],
            "type": "surface"
           }
          ],
          "table": [
           {
            "cells": {
             "fill": {
              "color": "#EBF0F8"
             },
             "line": {
              "color": "white"
             }
            },
            "header": {
             "fill": {
              "color": "#C8D4E3"
             },
             "line": {
              "color": "white"
             }
            },
            "type": "table"
           }
          ]
         },
         "layout": {
          "annotationdefaults": {
           "arrowcolor": "#2a3f5f",
           "arrowhead": 0,
           "arrowwidth": 1
          },
          "autotypenumbers": "strict",
          "coloraxis": {
           "colorbar": {
            "outlinewidth": 0,
            "ticks": ""
           }
          },
          "colorscale": {
           "diverging": [
            [
             0,
             "#8e0152"
            ],
            [
             0.1,
             "#c51b7d"
            ],
            [
             0.2,
             "#de77ae"
            ],
            [
             0.3,
             "#f1b6da"
            ],
            [
             0.4,
             "#fde0ef"
            ],
            [
             0.5,
             "#f7f7f7"
            ],
            [
             0.6,
             "#e6f5d0"
            ],
            [
             0.7,
             "#b8e186"
            ],
            [
             0.8,
             "#7fbc41"
            ],
            [
             0.9,
             "#4d9221"
            ],
            [
             1,
             "#276419"
            ]
           ],
           "sequential": [
            [
             0,
             "#0d0887"
            ],
            [
             0.1111111111111111,
             "#46039f"
            ],
            [
             0.2222222222222222,
             "#7201a8"
            ],
            [
             0.3333333333333333,
             "#9c179e"
            ],
            [
             0.4444444444444444,
             "#bd3786"
            ],
            [
             0.5555555555555556,
             "#d8576b"
            ],
            [
             0.6666666666666666,
             "#ed7953"
            ],
            [
             0.7777777777777778,
             "#fb9f3a"
            ],
            [
             0.8888888888888888,
             "#fdca26"
            ],
            [
             1,
             "#f0f921"
            ]
           ],
           "sequentialminus": [
            [
             0,
             "#0d0887"
            ],
            [
             0.1111111111111111,
             "#46039f"
            ],
            [
             0.2222222222222222,
             "#7201a8"
            ],
            [
             0.3333333333333333,
             "#9c179e"
            ],
            [
             0.4444444444444444,
             "#bd3786"
            ],
            [
             0.5555555555555556,
             "#d8576b"
            ],
            [
             0.6666666666666666,
             "#ed7953"
            ],
            [
             0.7777777777777778,
             "#fb9f3a"
            ],
            [
             0.8888888888888888,
             "#fdca26"
            ],
            [
             1,
             "#f0f921"
            ]
           ]
          },
          "colorway": [
           "#636efa",
           "#EF553B",
           "#00cc96",
           "#ab63fa",
           "#FFA15A",
           "#19d3f3",
           "#FF6692",
           "#B6E880",
           "#FF97FF",
           "#FECB52"
          ],
          "font": {
           "color": "#2a3f5f"
          },
          "geo": {
           "bgcolor": "white",
           "lakecolor": "white",
           "landcolor": "white",
           "showlakes": true,
           "showland": true,
           "subunitcolor": "#C8D4E3"
          },
          "hoverlabel": {
           "align": "left"
          },
          "hovermode": "closest",
          "mapbox": {
           "style": "light"
          },
          "paper_bgcolor": "white",
          "plot_bgcolor": "white",
          "polar": {
           "angularaxis": {
            "gridcolor": "#EBF0F8",
            "linecolor": "#EBF0F8",
            "ticks": ""
           },
           "bgcolor": "white",
           "radialaxis": {
            "gridcolor": "#EBF0F8",
            "linecolor": "#EBF0F8",
            "ticks": ""
           }
          },
          "scene": {
           "xaxis": {
            "backgroundcolor": "white",
            "gridcolor": "#DFE8F3",
            "gridwidth": 2,
            "linecolor": "#EBF0F8",
            "showbackground": true,
            "ticks": "",
            "zerolinecolor": "#EBF0F8"
           },
           "yaxis": {
            "backgroundcolor": "white",
            "gridcolor": "#DFE8F3",
            "gridwidth": 2,
            "linecolor": "#EBF0F8",
            "showbackground": true,
            "ticks": "",
            "zerolinecolor": "#EBF0F8"
           },
           "zaxis": {
            "backgroundcolor": "white",
            "gridcolor": "#DFE8F3",
            "gridwidth": 2,
            "linecolor": "#EBF0F8",
            "showbackground": true,
            "ticks": "",
            "zerolinecolor": "#EBF0F8"
           }
          },
          "shapedefaults": {
           "line": {
            "color": "#2a3f5f"
           }
          },
          "ternary": {
           "aaxis": {
            "gridcolor": "#DFE8F3",
            "linecolor": "#A2B1C6",
            "ticks": ""
           },
           "baxis": {
            "gridcolor": "#DFE8F3",
            "linecolor": "#A2B1C6",
            "ticks": ""
           },
           "bgcolor": "white",
           "caxis": {
            "gridcolor": "#DFE8F3",
            "linecolor": "#A2B1C6",
            "ticks": ""
           }
          },
          "title": {
           "x": 0.05
          },
          "xaxis": {
           "automargin": true,
           "gridcolor": "#EBF0F8",
           "linecolor": "#EBF0F8",
           "ticks": "",
           "title": {
            "standoff": 15
           },
           "zerolinecolor": "#EBF0F8",
           "zerolinewidth": 2
          },
          "yaxis": {
           "automargin": true,
           "gridcolor": "#EBF0F8",
           "linecolor": "#EBF0F8",
           "ticks": "",
           "title": {
            "standoff": 15
           },
           "zerolinecolor": "#EBF0F8",
           "zerolinewidth": 2
          }
         }
        },
        "title": {
         "text": "P-values des tests d'adéquation pour une loi binomiale"
        },
        "xaxis": {
         "anchor": "y",
         "domain": [
          0,
          1
         ],
         "matches": "x2",
         "showticklabels": false,
         "title": {
          "text": "Taille de l'échantillon"
         }
        },
        "xaxis2": {
         "anchor": "y2",
         "domain": [
          0,
          1
         ]
        },
        "yaxis": {
         "anchor": "x",
         "domain": [
          0.55,
          1
         ],
         "title": {
          "text": "P-value"
         }
        },
        "yaxis2": {
         "anchor": "x2",
         "domain": [
          0,
          0.45
         ]
        }
       }
      }
     },
     "metadata": {},
     "output_type": "display_data"
    }
   ],
   "source": [
    "# Initialisation des listes pour stocker les p-values\n",
    "p_values_ks, p_values_chi2 = [], []\n",
    "\n",
    "# Paramètres de la loi binomiale\n",
    "n, p = 10, 0.5  # n essais, probabilité de succès p\n",
    "sample_sizes = range(10, 1010, 10)\n",
    "\n",
    "# Simulation et tests\n",
    "for size in sample_sizes:\n",
    "    data = np.random.binomial(n, p, size)\n",
    "\n",
    "    #--ks--\n",
    "    stat_ks, p_value_ks = kstest(data, 'binom', args=(n, p))\n",
    "    p_values_ks.append(p_value_ks)\n",
    "\n",
    "    #--chi2--\n",
    "    observed, _ = np.histogram(data, bins=range(n + 2))  # Distribution observée\n",
    "    expected = size * np.array([binom.pmf(k, n, p) for k in range(n + 1)])  # Distribution théorique\n",
    "    stat_chi2, p_value_chi2 = chisquare(f_obs=observed, f_exp=expected)\n",
    "    p_values_chi2.append(p_value_chi2)\n",
    "\n",
    "\n",
    "fig = make_subplots(rows=2, cols=1, shared_xaxes=True, vertical_spacing=0.1,\n",
    "                    subplot_titles=[\"Kolmogorov-Smirnov\", \"Chi-2\"])\n",
    "\n",
    "\n",
    "fig.add_trace(\n",
    "    go.Scatter(x=list(sample_sizes), y=p_values_ks, mode='markers', name=\"KS Test\"),\n",
    "    row=1, col=1\n",
    ")\n",
    "fig.add_trace(\n",
    "    go.Scatter(x=list(sample_sizes), y=p_values_chi2, mode='markers', name=\"Chi-2 Test\"),\n",
    "    row=2, col=1\n",
    ")\n",
    "\n",
    "# Ajout des lignes alpha\n",
    "for i in range(1, 3):\n",
    "    fig.add_hline(y=0.05, line_dash=\"dash\", line_color=\"red\", row=i, col=1)\n",
    "\n",
    "# Mise en forme\n",
    "fig.update_layout(title=\"P-values des tests d'adéquation pour une loi binomiale\",\n",
    "                  xaxis_title=\"Taille de l'échantillon\",\n",
    "                  yaxis_title=\"P-value\",\n",
    "                  height=600,\n",
    "                  template=\"plotly_white\")\n",
    "\n",
    "# Affichage\n",
    "fig.show()\n"
   ]
  },
  {
   "cell_type": "code",
   "execution_count": 11,
   "id": "22846069",
   "metadata": {},
   "outputs": [
    {
     "data": {
      "application/vnd.plotly.v1+json": {
       "config": {
        "plotlyServerURL": "https://plot.ly"
       },
       "data": [
        {
         "mode": "markers",
         "name": "KS Test",
         "type": "scatter",
         "x": [
          10,
          20,
          30,
          40,
          50,
          60,
          70,
          80,
          90,
          100,
          110,
          120,
          130,
          140,
          150,
          160,
          170,
          180,
          190,
          200,
          210,
          220,
          230,
          240,
          250,
          260,
          270,
          280,
          290,
          300,
          310,
          320,
          330,
          340,
          350,
          360,
          370,
          380,
          390,
          400,
          410,
          420,
          430,
          440,
          450,
          460,
          470,
          480,
          490,
          500,
          510,
          520,
          530,
          540,
          550,
          560,
          570,
          580,
          590,
          600,
          610,
          620,
          630,
          640,
          650,
          660,
          670,
          680,
          690,
          700,
          710,
          720,
          730,
          740,
          750,
          760,
          770,
          780,
          790,
          800,
          810,
          820,
          830,
          840,
          850,
          860,
          870,
          880,
          890,
          900,
          910,
          920,
          930,
          940,
          950,
          960,
          970,
          980,
          990,
          1000
         ],
         "xaxis": "x",
         "y": [
          0.08737257744542504,
          0.07562157603129993,
          0.04717138221230699,
          0.06350575417092463,
          0.000006407792508196187,
          0.0016136976155394223,
          0.00004955621252416299,
          0.000009230890066256436,
          0.00007999020999921887,
          1.6873774119351986e-9,
          5.033181695520329e-9,
          1.9213099527599507e-7,
          7.179104188654491e-11,
          2.972070827665149e-11,
          0.000002889453991051725,
          1.5735141428391054e-11,
          1.6144463761329556e-7,
          7.126174973172681e-14,
          1.8754360632514496e-10,
          7.898694709100044e-9,
          4.633117400833388e-10,
          1.699081138801602e-14,
          4.606853389224752e-13,
          1.2743746660292115e-12,
          4.687065761997549e-13,
          6.408049746236728e-14,
          8.666976101064266e-15,
          5.038091440759917e-17,
          9.233715590611794e-13,
          2.0314022055499452e-17,
          4.9818342521744517e-14,
          1.1850549608891016e-19,
          1.5487163747911362e-16,
          2.1508426456855064e-17,
          8.129904732303398e-23,
          7.635983511475168e-18,
          1.0649799904739557e-18,
          1.0749018633820535e-30,
          1.4890462549906707e-23,
          1.1540854277609657e-15,
          6.042291487639403e-24,
          1.2228554505050262e-19,
          3.5038527848513515e-26,
          3.14087962327658e-25,
          6.654527781776716e-33,
          8.090609740451674e-34,
          1.2558025176069334e-25,
          1.7183833842666865e-23,
          3.4221172143721123e-25,
          1.9841167775637596e-33,
          3.272536530641206e-21,
          2.4602736138123917e-32,
          4.228647800981948e-29,
          1.7666724942064258e-24,
          1.1777566042797558e-28,
          1.2238702903383053e-32,
          8.823736203406233e-40,
          1.2519888142066272e-26,
          2.6789329184236586e-35,
          4.8571665762962205e-39,
          4.446200918498193e-37,
          6.420657848758711e-21,
          6.312679497187984e-38,
          2.992844756509479e-29,
          4.7680238222156375e-45,
          1.7682003326618502e-36,
          3.629181872710481e-39,
          9.939439251351695e-35,
          9.00693427976816e-38,
          2.317936824463671e-28,
          2.371087173358588e-34,
          1.8141918410471133e-36,
          1.3500778276859053e-31,
          8.907485668669943e-48,
          2.763787194768484e-46,
          6.012808969764679e-37,
          1.3360342319235455e-47,
          2.0668337604492576e-50,
          4.312534749803467e-42,
          2.7510104824474023e-50,
          9.257635590027073e-50,
          5.582211363781078e-40,
          6.021614274045846e-54,
          2.865709735321898e-41,
          8.848179488020274e-55,
          2.890696971449792e-39,
          3.098535502795664e-53,
          1.9740596041611876e-43,
          1.885908964430193e-56,
          1.738712753430328e-49,
          2.1408957848103935e-55,
          3.786973158079806e-59,
          1.7881638845816977e-53,
          1.1492404749428194e-56,
          5.021085791917541e-49,
          1.6232820017293597e-52,
          1.7844928107374794e-44,
          1.2857814988791454e-62,
          4.811566727667528e-56,
          5.643506881344282e-63
         ],
         "yaxis": "y"
        },
        {
         "mode": "markers",
         "name": "Chi-2 Test",
         "type": "scatter",
         "x": [
          10,
          20,
          30,
          40,
          50,
          60,
          70,
          80,
          90,
          100,
          110,
          120,
          130,
          140,
          150,
          160,
          170,
          180,
          190,
          200,
          210,
          220,
          230,
          240,
          250,
          260,
          270,
          280,
          290,
          300,
          310,
          320,
          330,
          340,
          350,
          360,
          370,
          380,
          390,
          400,
          410,
          420,
          430,
          440,
          450,
          460,
          470,
          480,
          490,
          500,
          510,
          520,
          530,
          540,
          550,
          560,
          570,
          580,
          590,
          600,
          610,
          620,
          630,
          640,
          650,
          660,
          670,
          680,
          690,
          700,
          710,
          720,
          730,
          740,
          750,
          760,
          770,
          780,
          790,
          800,
          810,
          820,
          830,
          840,
          850,
          860,
          870,
          880,
          890,
          900,
          910,
          920,
          930,
          940,
          950,
          960,
          970,
          980,
          990,
          1000
         ],
         "xaxis": "x2",
         "y": [
          0.8245626162188718,
          0.7098345472417421,
          0.915815717074685,
          0.8689416007771221,
          0.00866843142124186,
          0.9996306042471844,
          0.056487983615762676,
          0.696943479285916,
          0.9848136104840872,
          0.04528512210685596,
          0.8019247604450966,
          0.9575081731416154,
          0.6191339923835131,
          0.7119794861961133,
          0.9929050562981241,
          0.6484273183753715,
          0.122151535028096,
          0.22773492937494796,
          0.9306104756859614,
          0.8294957471621445,
          0.5769525757879477,
          0.7458856619505243,
          0.6341382372303295,
          0.7149154045103965,
          0.8097716184497293,
          0.1572300476816442,
          0.7752109307722854,
          0.9700756777240788,
          0.7913021933277635,
          0.13145040428015728,
          0.5588037360602919,
          0.5566689468748349,
          0.9404070220229382,
          0.44929849344892914,
          0.7376763461563043,
          0.7344771249637282,
          0.013619406752032135,
          0.27427341922463916,
          0.4744910214198693,
          0.5896048289085558,
          0.02634304840843898,
          0.6212885351012946,
          0.9002235262004209,
          0.7397642436275453,
          0.06867378747250957,
          0.040883790137964934,
          0.5936844272129121,
          0.8571069651448611,
          0.6904555272341495,
          0.23883905701826053,
          0.3581206446258677,
          0.8517149619529493,
          0.6174336611173383,
          0.5062880252534866,
          0.005809811710684502,
          0.36889983517621905,
          0.7819502919375011,
          0.024714725625379075,
          0.6908596851147717,
          0.5766585766182931,
          0.8006158012465154,
          0.3517756305981684,
          0.7250690831102284,
          0.24820725748113923,
          0.3824238048781611,
          0.17959087349006517,
          0.6446785047470521,
          0.7985939707482906,
          0.4263412813217874,
          0.3855068969351094,
          0.8852492040451085,
          0.25515465769011897,
          0.632233615616609,
          0.41891504703047117,
          0.7258676652604924,
          0.4606805636569542,
          0.3041341198583362,
          0.1943160900392165,
          0.4102959651996483,
          0.8131464429347041,
          0.4446263952841415,
          0.9893698285822762,
          0.18302116464130838,
          0.18536329531999896,
          0.8061926898395442,
          0.625311870337617,
          0.428277213922256,
          0.09658078511373135,
          0.2249161408183318,
          0.6896248179790232,
          0.4560172824332015,
          0.47543497303635074,
          0.402247661352058,
          0.1610637721684619,
          0.9220966164284672,
          0.25862248177252334,
          0.3565168068226486,
          0.27864269579883894,
          0.8044203051385742,
          0.4607112443619218
         ],
         "yaxis": "y2"
        }
       ],
       "layout": {
        "annotations": [
         {
          "font": {
           "size": 16
          },
          "showarrow": false,
          "text": "Kolmogorov-Smirnov",
          "x": 0.5,
          "xanchor": "center",
          "xref": "paper",
          "y": 1,
          "yanchor": "bottom",
          "yref": "paper"
         },
         {
          "font": {
           "size": 16
          },
          "showarrow": false,
          "text": "Chi-2",
          "x": 0.5,
          "xanchor": "center",
          "xref": "paper",
          "y": 0.45,
          "yanchor": "bottom",
          "yref": "paper"
         }
        ],
        "height": 600,
        "shapes": [
         {
          "line": {
           "color": "red",
           "dash": "dash"
          },
          "type": "line",
          "x0": 0,
          "x1": 1,
          "xref": "x domain",
          "y0": 0.05,
          "y1": 0.05,
          "yref": "y"
         },
         {
          "line": {
           "color": "red",
           "dash": "dash"
          },
          "type": "line",
          "x0": 0,
          "x1": 1,
          "xref": "x2 domain",
          "y0": 0.05,
          "y1": 0.05,
          "yref": "y2"
         }
        ],
        "template": {
         "data": {
          "bar": [
           {
            "error_x": {
             "color": "#2a3f5f"
            },
            "error_y": {
             "color": "#2a3f5f"
            },
            "marker": {
             "line": {
              "color": "white",
              "width": 0.5
             },
             "pattern": {
              "fillmode": "overlay",
              "size": 10,
              "solidity": 0.2
             }
            },
            "type": "bar"
           }
          ],
          "barpolar": [
           {
            "marker": {
             "line": {
              "color": "white",
              "width": 0.5
             },
             "pattern": {
              "fillmode": "overlay",
              "size": 10,
              "solidity": 0.2
             }
            },
            "type": "barpolar"
           }
          ],
          "carpet": [
           {
            "aaxis": {
             "endlinecolor": "#2a3f5f",
             "gridcolor": "#C8D4E3",
             "linecolor": "#C8D4E3",
             "minorgridcolor": "#C8D4E3",
             "startlinecolor": "#2a3f5f"
            },
            "baxis": {
             "endlinecolor": "#2a3f5f",
             "gridcolor": "#C8D4E3",
             "linecolor": "#C8D4E3",
             "minorgridcolor": "#C8D4E3",
             "startlinecolor": "#2a3f5f"
            },
            "type": "carpet"
           }
          ],
          "choropleth": [
           {
            "colorbar": {
             "outlinewidth": 0,
             "ticks": ""
            },
            "type": "choropleth"
           }
          ],
          "contour": [
           {
            "colorbar": {
             "outlinewidth": 0,
             "ticks": ""
            },
            "colorscale": [
             [
              0,
              "#0d0887"
             ],
             [
              0.1111111111111111,
              "#46039f"
             ],
             [
              0.2222222222222222,
              "#7201a8"
             ],
             [
              0.3333333333333333,
              "#9c179e"
             ],
             [
              0.4444444444444444,
              "#bd3786"
             ],
             [
              0.5555555555555556,
              "#d8576b"
             ],
             [
              0.6666666666666666,
              "#ed7953"
             ],
             [
              0.7777777777777778,
              "#fb9f3a"
             ],
             [
              0.8888888888888888,
              "#fdca26"
             ],
             [
              1,
              "#f0f921"
             ]
            ],
            "type": "contour"
           }
          ],
          "contourcarpet": [
           {
            "colorbar": {
             "outlinewidth": 0,
             "ticks": ""
            },
            "type": "contourcarpet"
           }
          ],
          "heatmap": [
           {
            "colorbar": {
             "outlinewidth": 0,
             "ticks": ""
            },
            "colorscale": [
             [
              0,
              "#0d0887"
             ],
             [
              0.1111111111111111,
              "#46039f"
             ],
             [
              0.2222222222222222,
              "#7201a8"
             ],
             [
              0.3333333333333333,
              "#9c179e"
             ],
             [
              0.4444444444444444,
              "#bd3786"
             ],
             [
              0.5555555555555556,
              "#d8576b"
             ],
             [
              0.6666666666666666,
              "#ed7953"
             ],
             [
              0.7777777777777778,
              "#fb9f3a"
             ],
             [
              0.8888888888888888,
              "#fdca26"
             ],
             [
              1,
              "#f0f921"
             ]
            ],
            "type": "heatmap"
           }
          ],
          "heatmapgl": [
           {
            "colorbar": {
             "outlinewidth": 0,
             "ticks": ""
            },
            "colorscale": [
             [
              0,
              "#0d0887"
             ],
             [
              0.1111111111111111,
              "#46039f"
             ],
             [
              0.2222222222222222,
              "#7201a8"
             ],
             [
              0.3333333333333333,
              "#9c179e"
             ],
             [
              0.4444444444444444,
              "#bd3786"
             ],
             [
              0.5555555555555556,
              "#d8576b"
             ],
             [
              0.6666666666666666,
              "#ed7953"
             ],
             [
              0.7777777777777778,
              "#fb9f3a"
             ],
             [
              0.8888888888888888,
              "#fdca26"
             ],
             [
              1,
              "#f0f921"
             ]
            ],
            "type": "heatmapgl"
           }
          ],
          "histogram": [
           {
            "marker": {
             "pattern": {
              "fillmode": "overlay",
              "size": 10,
              "solidity": 0.2
             }
            },
            "type": "histogram"
           }
          ],
          "histogram2d": [
           {
            "colorbar": {
             "outlinewidth": 0,
             "ticks": ""
            },
            "colorscale": [
             [
              0,
              "#0d0887"
             ],
             [
              0.1111111111111111,
              "#46039f"
             ],
             [
              0.2222222222222222,
              "#7201a8"
             ],
             [
              0.3333333333333333,
              "#9c179e"
             ],
             [
              0.4444444444444444,
              "#bd3786"
             ],
             [
              0.5555555555555556,
              "#d8576b"
             ],
             [
              0.6666666666666666,
              "#ed7953"
             ],
             [
              0.7777777777777778,
              "#fb9f3a"
             ],
             [
              0.8888888888888888,
              "#fdca26"
             ],
             [
              1,
              "#f0f921"
             ]
            ],
            "type": "histogram2d"
           }
          ],
          "histogram2dcontour": [
           {
            "colorbar": {
             "outlinewidth": 0,
             "ticks": ""
            },
            "colorscale": [
             [
              0,
              "#0d0887"
             ],
             [
              0.1111111111111111,
              "#46039f"
             ],
             [
              0.2222222222222222,
              "#7201a8"
             ],
             [
              0.3333333333333333,
              "#9c179e"
             ],
             [
              0.4444444444444444,
              "#bd3786"
             ],
             [
              0.5555555555555556,
              "#d8576b"
             ],
             [
              0.6666666666666666,
              "#ed7953"
             ],
             [
              0.7777777777777778,
              "#fb9f3a"
             ],
             [
              0.8888888888888888,
              "#fdca26"
             ],
             [
              1,
              "#f0f921"
             ]
            ],
            "type": "histogram2dcontour"
           }
          ],
          "mesh3d": [
           {
            "colorbar": {
             "outlinewidth": 0,
             "ticks": ""
            },
            "type": "mesh3d"
           }
          ],
          "parcoords": [
           {
            "line": {
             "colorbar": {
              "outlinewidth": 0,
              "ticks": ""
             }
            },
            "type": "parcoords"
           }
          ],
          "pie": [
           {
            "automargin": true,
            "type": "pie"
           }
          ],
          "scatter": [
           {
            "fillpattern": {
             "fillmode": "overlay",
             "size": 10,
             "solidity": 0.2
            },
            "type": "scatter"
           }
          ],
          "scatter3d": [
           {
            "line": {
             "colorbar": {
              "outlinewidth": 0,
              "ticks": ""
             }
            },
            "marker": {
             "colorbar": {
              "outlinewidth": 0,
              "ticks": ""
             }
            },
            "type": "scatter3d"
           }
          ],
          "scattercarpet": [
           {
            "marker": {
             "colorbar": {
              "outlinewidth": 0,
              "ticks": ""
             }
            },
            "type": "scattercarpet"
           }
          ],
          "scattergeo": [
           {
            "marker": {
             "colorbar": {
              "outlinewidth": 0,
              "ticks": ""
             }
            },
            "type": "scattergeo"
           }
          ],
          "scattergl": [
           {
            "marker": {
             "colorbar": {
              "outlinewidth": 0,
              "ticks": ""
             }
            },
            "type": "scattergl"
           }
          ],
          "scattermapbox": [
           {
            "marker": {
             "colorbar": {
              "outlinewidth": 0,
              "ticks": ""
             }
            },
            "type": "scattermapbox"
           }
          ],
          "scatterpolar": [
           {
            "marker": {
             "colorbar": {
              "outlinewidth": 0,
              "ticks": ""
             }
            },
            "type": "scatterpolar"
           }
          ],
          "scatterpolargl": [
           {
            "marker": {
             "colorbar": {
              "outlinewidth": 0,
              "ticks": ""
             }
            },
            "type": "scatterpolargl"
           }
          ],
          "scatterternary": [
           {
            "marker": {
             "colorbar": {
              "outlinewidth": 0,
              "ticks": ""
             }
            },
            "type": "scatterternary"
           }
          ],
          "surface": [
           {
            "colorbar": {
             "outlinewidth": 0,
             "ticks": ""
            },
            "colorscale": [
             [
              0,
              "#0d0887"
             ],
             [
              0.1111111111111111,
              "#46039f"
             ],
             [
              0.2222222222222222,
              "#7201a8"
             ],
             [
              0.3333333333333333,
              "#9c179e"
             ],
             [
              0.4444444444444444,
              "#bd3786"
             ],
             [
              0.5555555555555556,
              "#d8576b"
             ],
             [
              0.6666666666666666,
              "#ed7953"
             ],
             [
              0.7777777777777778,
              "#fb9f3a"
             ],
             [
              0.8888888888888888,
              "#fdca26"
             ],
             [
              1,
              "#f0f921"
             ]
            ],
            "type": "surface"
           }
          ],
          "table": [
           {
            "cells": {
             "fill": {
              "color": "#EBF0F8"
             },
             "line": {
              "color": "white"
             }
            },
            "header": {
             "fill": {
              "color": "#C8D4E3"
             },
             "line": {
              "color": "white"
             }
            },
            "type": "table"
           }
          ]
         },
         "layout": {
          "annotationdefaults": {
           "arrowcolor": "#2a3f5f",
           "arrowhead": 0,
           "arrowwidth": 1
          },
          "autotypenumbers": "strict",
          "coloraxis": {
           "colorbar": {
            "outlinewidth": 0,
            "ticks": ""
           }
          },
          "colorscale": {
           "diverging": [
            [
             0,
             "#8e0152"
            ],
            [
             0.1,
             "#c51b7d"
            ],
            [
             0.2,
             "#de77ae"
            ],
            [
             0.3,
             "#f1b6da"
            ],
            [
             0.4,
             "#fde0ef"
            ],
            [
             0.5,
             "#f7f7f7"
            ],
            [
             0.6,
             "#e6f5d0"
            ],
            [
             0.7,
             "#b8e186"
            ],
            [
             0.8,
             "#7fbc41"
            ],
            [
             0.9,
             "#4d9221"
            ],
            [
             1,
             "#276419"
            ]
           ],
           "sequential": [
            [
             0,
             "#0d0887"
            ],
            [
             0.1111111111111111,
             "#46039f"
            ],
            [
             0.2222222222222222,
             "#7201a8"
            ],
            [
             0.3333333333333333,
             "#9c179e"
            ],
            [
             0.4444444444444444,
             "#bd3786"
            ],
            [
             0.5555555555555556,
             "#d8576b"
            ],
            [
             0.6666666666666666,
             "#ed7953"
            ],
            [
             0.7777777777777778,
             "#fb9f3a"
            ],
            [
             0.8888888888888888,
             "#fdca26"
            ],
            [
             1,
             "#f0f921"
            ]
           ],
           "sequentialminus": [
            [
             0,
             "#0d0887"
            ],
            [
             0.1111111111111111,
             "#46039f"
            ],
            [
             0.2222222222222222,
             "#7201a8"
            ],
            [
             0.3333333333333333,
             "#9c179e"
            ],
            [
             0.4444444444444444,
             "#bd3786"
            ],
            [
             0.5555555555555556,
             "#d8576b"
            ],
            [
             0.6666666666666666,
             "#ed7953"
            ],
            [
             0.7777777777777778,
             "#fb9f3a"
            ],
            [
             0.8888888888888888,
             "#fdca26"
            ],
            [
             1,
             "#f0f921"
            ]
           ]
          },
          "colorway": [
           "#636efa",
           "#EF553B",
           "#00cc96",
           "#ab63fa",
           "#FFA15A",
           "#19d3f3",
           "#FF6692",
           "#B6E880",
           "#FF97FF",
           "#FECB52"
          ],
          "font": {
           "color": "#2a3f5f"
          },
          "geo": {
           "bgcolor": "white",
           "lakecolor": "white",
           "landcolor": "white",
           "showlakes": true,
           "showland": true,
           "subunitcolor": "#C8D4E3"
          },
          "hoverlabel": {
           "align": "left"
          },
          "hovermode": "closest",
          "mapbox": {
           "style": "light"
          },
          "paper_bgcolor": "white",
          "plot_bgcolor": "white",
          "polar": {
           "angularaxis": {
            "gridcolor": "#EBF0F8",
            "linecolor": "#EBF0F8",
            "ticks": ""
           },
           "bgcolor": "white",
           "radialaxis": {
            "gridcolor": "#EBF0F8",
            "linecolor": "#EBF0F8",
            "ticks": ""
           }
          },
          "scene": {
           "xaxis": {
            "backgroundcolor": "white",
            "gridcolor": "#DFE8F3",
            "gridwidth": 2,
            "linecolor": "#EBF0F8",
            "showbackground": true,
            "ticks": "",
            "zerolinecolor": "#EBF0F8"
           },
           "yaxis": {
            "backgroundcolor": "white",
            "gridcolor": "#DFE8F3",
            "gridwidth": 2,
            "linecolor": "#EBF0F8",
            "showbackground": true,
            "ticks": "",
            "zerolinecolor": "#EBF0F8"
           },
           "zaxis": {
            "backgroundcolor": "white",
            "gridcolor": "#DFE8F3",
            "gridwidth": 2,
            "linecolor": "#EBF0F8",
            "showbackground": true,
            "ticks": "",
            "zerolinecolor": "#EBF0F8"
           }
          },
          "shapedefaults": {
           "line": {
            "color": "#2a3f5f"
           }
          },
          "ternary": {
           "aaxis": {
            "gridcolor": "#DFE8F3",
            "linecolor": "#A2B1C6",
            "ticks": ""
           },
           "baxis": {
            "gridcolor": "#DFE8F3",
            "linecolor": "#A2B1C6",
            "ticks": ""
           },
           "bgcolor": "white",
           "caxis": {
            "gridcolor": "#DFE8F3",
            "linecolor": "#A2B1C6",
            "ticks": ""
           }
          },
          "title": {
           "x": 0.05
          },
          "xaxis": {
           "automargin": true,
           "gridcolor": "#EBF0F8",
           "linecolor": "#EBF0F8",
           "ticks": "",
           "title": {
            "standoff": 15
           },
           "zerolinecolor": "#EBF0F8",
           "zerolinewidth": 2
          },
          "yaxis": {
           "automargin": true,
           "gridcolor": "#EBF0F8",
           "linecolor": "#EBF0F8",
           "ticks": "",
           "title": {
            "standoff": 15
           },
           "zerolinecolor": "#EBF0F8",
           "zerolinewidth": 2
          }
         }
        },
        "title": {
         "text": "P-values des tests d'adéquation pour une loi binomiale"
        },
        "xaxis": {
         "anchor": "y",
         "domain": [
          0,
          1
         ],
         "matches": "x2",
         "showticklabels": false,
         "title": {
          "text": "Taille de l'échantillon"
         }
        },
        "xaxis2": {
         "anchor": "y2",
         "domain": [
          0,
          1
         ]
        },
        "yaxis": {
         "anchor": "x",
         "domain": [
          0.55,
          1
         ],
         "title": {
          "text": "P-value"
         }
        },
        "yaxis2": {
         "anchor": "x2",
         "domain": [
          0,
          0.45
         ]
        }
       }
      }
     },
     "metadata": {},
     "output_type": "display_data"
    }
   ],
   "source": [
    "p_values_ks, p_values_chi2 = [], []\n",
    "\n",
    "\n",
    "n, p = 10, 0.5  # n essais, probabilité de succès p\n",
    "\n",
    "sample_sizes = range(10, 1010, 10)\n",
    "for size in sample_sizes:\n",
    "    data = np.random.binomial(n, p, size)\n",
    "\n",
    "    #--ks--\n",
    "    stat_ks, p_value_ks = kstest(data, 'binom', args=(n, p))\n",
    "    p_values_ks.append(p_value_ks)\n",
    "\n",
    "    #--chi2--\n",
    "    observed, _ = np.histogram(data, bins=range(n + 2))  # Distribution observée\n",
    "    expected = size * np.array([binom.pmf(k, n, p) for k in range(n + 1)])  # Distribution théorique\n",
    "    stat_chi2, p_value_chi2 = chisquare(f_obs=observed, f_exp=expected)\n",
    "    p_values_chi2.append(p_value_chi2)\n",
    "\n",
    "\n",
    "fig = make_subplots(rows=2, cols=1, shared_xaxes=True, vertical_spacing=0.1,\n",
    "                    subplot_titles=[\"Kolmogorov-Smirnov\", \"Chi-2\"])\n",
    "\n",
    "\n",
    "fig.add_trace(\n",
    "    go.Scatter(x=list(sample_sizes), y=p_values_ks, mode='markers', name=\"KS Test\"),\n",
    "    row=1, col=1\n",
    ")\n",
    "fig.add_trace(\n",
    "    go.Scatter(x=list(sample_sizes), y=p_values_chi2, mode='markers', name=\"Chi-2 Test\"),\n",
    "    row=2, col=1\n",
    ")\n",
    "\n",
    "# Ajout des lignes alpha = 0.05\n",
    "for i in range(1, 3):\n",
    "    fig.add_hline(y=0.05, line_dash=\"dash\", line_color=\"red\", row=i, col=1)\n",
    "\n",
    "\n",
    "fig.update_layout(title=\"P-values des tests d'adéquation pour une loi binomiale\",\n",
    "                  xaxis_title=\"Taille de l'échantillon\",\n",
    "                  yaxis_title=\"P-value\",\n",
    "                  height=600,\n",
    "                  template=\"plotly_white\")\n",
    "\n",
    "\n",
    "fig.show()\n"
   ]
  },
  {
   "cell_type": "markdown",
   "id": "1c030147",
   "metadata": {},
   "source": [
    "### **Analyse de l'adéquation des tests pour une loi binomiale**\n",
    "\n",
    "1. **Limite du test de Kolmogorov-Smirnov (KS)**  \n",
    "   - Le test KS n'est **pas adapté** pour une distribution **discrète** comme la loi binomiale.  \n",
    "   - Cela s'explique par le fait que KS compare des fonctions de répartition (CDF), et pour une distribution discrète, les sauts dans la CDF rendent la comparaison imprécise.\n",
    "\n",
    "2. **Efficacité du test du Chi-2**  \n",
    "   - En revanche, le **test du Chi-2** est très performant pour détecter la conformité à une loi binomiale.  \n",
    "   - Il compare directement les **fréquences observées** avec les **fréquences attendues**, ce qui est particulièrement adapté aux distributions discrètes.\n"
   ]
  },
  {
   "cell_type": "markdown",
   "id": "989b1798",
   "metadata": {},
   "source": [
    "# **Conclusion**\n",
    "\n",
    "Dans ce notebook, nous avons exploré plusieurs thématiques clés en statistique, notamment :\n",
    "\n",
    "1. **Tests d'adéquation de loi** :  \n",
    "   - Analyse des méthodes permettant de vérifier si un jeu de données suit une distribution théorique.\n",
    "   - Étude des tests compatibles avec les lois **normale** et **binomiale**, tels que :\n",
    "     - **Kolmogorov-Smirnov (KS)** : Adapté pour des distributions continues, mais moins performant pour des distributions discrètes comme la loi binomiale.\n",
    "     - **Test du Chi-2** : Particulièrement efficace pour les distributions discrètes comme la loi binomiale.\n",
    "\n",
    "2. **Tests de comparaison de groupes** :  \n",
    "   - Tests statistiques pour comparer des échantillons provenant de groupes différents.\n",
    "   - Mise en lumière de l'importance des hypothèses sous-jacentes (normalité, égalité des variances, etc.).\n",
    "\n",
    "3. **Impact de la taille des échantillons** :  \n",
    "   - Étude de l'influence de la taille des échantillons sur la robustesse et la fiabilité des tests d'adéquation de loi.\n",
    "   - Illustration des performances des tests sur des tailles d'échantillons faibles et élevées pour les lois normales et binomiales.\n",
    "\n",
    "---\n",
    "\n",
    "### **Points clés à retenir :**\n",
    "- Le choix du test statistique dépend de la nature des données (continue ou discrète) et de la distribution théorique étudiée.\n",
    "- Les **tailles d'échantillons faibles** peuvent entraîner une perte de puissance pour certains tests, nécessitant des ajustements ou des alternatives robustes.\n",
    "- La combinaison de plusieurs tests (par exemple, KS et Chi-2) permet une analyse plus complète et fiable.\n",
    "\n",
    "\n"
   ]
  },
  {
   "cell_type": "code",
   "execution_count": 12,
   "id": "5c780ce5",
   "metadata": {},
   "outputs": [],
   "source": [
    "#jupyter nbconvert --to html --execute Tests_statistiques_KHELID.ipynb && open Tests_statistiques_KHELID.html"
   ]
  }
 ],
 "metadata": {
  "kernelspec": {
   "display_name": "base",
   "language": "python",
   "name": "python3"
  },
  "language_info": {
   "codemirror_mode": {
    "name": "ipython",
    "version": 3
   },
   "file_extension": ".py",
   "mimetype": "text/x-python",
   "name": "python",
   "nbconvert_exporter": "python",
   "pygments_lexer": "ipython3",
   "version": "3.11.5"
  }
 },
 "nbformat": 4,
 "nbformat_minor": 5
}
